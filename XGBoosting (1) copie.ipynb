{
 "cells": [
  {
   "cell_type": "markdown",
   "id": "43b40e25",
   "metadata": {},
   "source": [
    "   ***IMPLEMENTATION DE L'ALGORITHME XGBoost***"
   ]
  },
  {
   "cell_type": "markdown",
   "id": "11d76504",
   "metadata": {},
   "source": [
    "*EXPLICATION DES DONNEES*"
   ]
  },
  {
   "cell_type": "markdown",
   "id": "f9b696ef",
   "metadata": {},
   "source": [
    "Nous travaillons avec des données sur le Cancer du sein à la ville de Coimbra (en Portugal). Des caractéristiques cliniques ont été observées et mesurées chez 64 patientes atteintes d'un cancer du sein et 52 témoins sains. Il existe 10 prédicteurs, tous quantitatifs, et une variable dépendante binaire (1 pour personne saine et 2 pour patiente atteinte), indiquant l' abscence ou la présence d'un cancer du sein. Les prédicteurs sont des données et des paramètres anthropométriques qui peuvent etre recueillies lors des analyses sanguines. Les parametres sont : \n",
    "\n",
    "Age(ans) : age de la personne ,\n",
    "\n",
    "BMI(kg/m²) : indice de masse de corporelle ,\n",
    "\n",
    "Glucose(mg/dL) : taux de glucose dans le sang ,\n",
    "\n",
    "Insuline(µU/mL) : taux d'insuline dans le sang ,\n",
    "\n",
    "HOMA : indice permettant de mettre en évidence une résistance insulinique ,\n",
    "\n",
    "Leptine(ng/mL) : taux de leptine , \n",
    "\n",
    "Adiponectine(µg/mL) : taux d'adiponectine ,\n",
    "\n",
    "Résistine(ng/mL) : taux de résistine ,\n",
    "\n",
    "MCP-1(pg/dL) : taux de Protéine Chimio attractive des Monocytes \n"
   ]
  },
  {
   "cell_type": "markdown",
   "id": "061d57e8",
   "metadata": {},
   "source": [
    "***Importation des modules***"
   ]
  },
  {
   "cell_type": "code",
   "execution_count": 139,
   "id": "74e394be",
   "metadata": {},
   "outputs": [],
   "source": [
    "import numpy as np\n",
    "import pandas as pd"
   ]
  },
  {
   "cell_type": "markdown",
   "id": "82dd4010",
   "metadata": {},
   "source": [
    "***Importation et Affichage des données***"
   ]
  },
  {
   "cell_type": "code",
   "execution_count": 140,
   "id": "eeb56918",
   "metadata": {},
   "outputs": [
    {
     "data": {
      "text/html": [
       "<div>\n",
       "<style scoped>\n",
       "    .dataframe tbody tr th:only-of-type {\n",
       "        vertical-align: middle;\n",
       "    }\n",
       "\n",
       "    .dataframe tbody tr th {\n",
       "        vertical-align: top;\n",
       "    }\n",
       "\n",
       "    .dataframe thead th {\n",
       "        text-align: right;\n",
       "    }\n",
       "</style>\n",
       "<table border=\"1\" class=\"dataframe\">\n",
       "  <thead>\n",
       "    <tr style=\"text-align: right;\">\n",
       "      <th></th>\n",
       "      <th>Age</th>\n",
       "      <th>BMI</th>\n",
       "      <th>Glucose</th>\n",
       "      <th>Insulin</th>\n",
       "      <th>HOMA</th>\n",
       "      <th>Leptin</th>\n",
       "      <th>Adiponectin</th>\n",
       "      <th>Resistin</th>\n",
       "      <th>MCP.1</th>\n",
       "      <th>Classification</th>\n",
       "    </tr>\n",
       "  </thead>\n",
       "  <tbody>\n",
       "    <tr>\n",
       "      <th>0</th>\n",
       "      <td>48</td>\n",
       "      <td>23.500000</td>\n",
       "      <td>70</td>\n",
       "      <td>2.707</td>\n",
       "      <td>0.467409</td>\n",
       "      <td>8.8071</td>\n",
       "      <td>9.702400</td>\n",
       "      <td>7.99585</td>\n",
       "      <td>417.114</td>\n",
       "      <td>1</td>\n",
       "    </tr>\n",
       "    <tr>\n",
       "      <th>1</th>\n",
       "      <td>83</td>\n",
       "      <td>20.690495</td>\n",
       "      <td>92</td>\n",
       "      <td>3.115</td>\n",
       "      <td>0.706897</td>\n",
       "      <td>8.8438</td>\n",
       "      <td>5.429285</td>\n",
       "      <td>4.06405</td>\n",
       "      <td>468.786</td>\n",
       "      <td>1</td>\n",
       "    </tr>\n",
       "    <tr>\n",
       "      <th>2</th>\n",
       "      <td>82</td>\n",
       "      <td>23.124670</td>\n",
       "      <td>91</td>\n",
       "      <td>4.498</td>\n",
       "      <td>1.009651</td>\n",
       "      <td>17.9393</td>\n",
       "      <td>22.432040</td>\n",
       "      <td>9.27715</td>\n",
       "      <td>554.697</td>\n",
       "      <td>1</td>\n",
       "    </tr>\n",
       "    <tr>\n",
       "      <th>3</th>\n",
       "      <td>68</td>\n",
       "      <td>21.367521</td>\n",
       "      <td>77</td>\n",
       "      <td>3.226</td>\n",
       "      <td>0.612725</td>\n",
       "      <td>9.8827</td>\n",
       "      <td>7.169560</td>\n",
       "      <td>12.76600</td>\n",
       "      <td>928.220</td>\n",
       "      <td>1</td>\n",
       "    </tr>\n",
       "    <tr>\n",
       "      <th>4</th>\n",
       "      <td>86</td>\n",
       "      <td>21.111111</td>\n",
       "      <td>92</td>\n",
       "      <td>3.549</td>\n",
       "      <td>0.805386</td>\n",
       "      <td>6.6994</td>\n",
       "      <td>4.819240</td>\n",
       "      <td>10.57635</td>\n",
       "      <td>773.920</td>\n",
       "      <td>1</td>\n",
       "    </tr>\n",
       "    <tr>\n",
       "      <th>...</th>\n",
       "      <td>...</td>\n",
       "      <td>...</td>\n",
       "      <td>...</td>\n",
       "      <td>...</td>\n",
       "      <td>...</td>\n",
       "      <td>...</td>\n",
       "      <td>...</td>\n",
       "      <td>...</td>\n",
       "      <td>...</td>\n",
       "      <td>...</td>\n",
       "    </tr>\n",
       "    <tr>\n",
       "      <th>111</th>\n",
       "      <td>45</td>\n",
       "      <td>26.850000</td>\n",
       "      <td>92</td>\n",
       "      <td>3.330</td>\n",
       "      <td>0.755688</td>\n",
       "      <td>54.6800</td>\n",
       "      <td>12.100000</td>\n",
       "      <td>10.96000</td>\n",
       "      <td>268.230</td>\n",
       "      <td>2</td>\n",
       "    </tr>\n",
       "    <tr>\n",
       "      <th>112</th>\n",
       "      <td>62</td>\n",
       "      <td>26.840000</td>\n",
       "      <td>100</td>\n",
       "      <td>4.530</td>\n",
       "      <td>1.117400</td>\n",
       "      <td>12.4500</td>\n",
       "      <td>21.420000</td>\n",
       "      <td>7.32000</td>\n",
       "      <td>330.160</td>\n",
       "      <td>2</td>\n",
       "    </tr>\n",
       "    <tr>\n",
       "      <th>113</th>\n",
       "      <td>65</td>\n",
       "      <td>32.050000</td>\n",
       "      <td>97</td>\n",
       "      <td>5.730</td>\n",
       "      <td>1.370998</td>\n",
       "      <td>61.4800</td>\n",
       "      <td>22.540000</td>\n",
       "      <td>10.33000</td>\n",
       "      <td>314.050</td>\n",
       "      <td>2</td>\n",
       "    </tr>\n",
       "    <tr>\n",
       "      <th>114</th>\n",
       "      <td>72</td>\n",
       "      <td>25.590000</td>\n",
       "      <td>82</td>\n",
       "      <td>2.820</td>\n",
       "      <td>0.570392</td>\n",
       "      <td>24.9600</td>\n",
       "      <td>33.750000</td>\n",
       "      <td>3.27000</td>\n",
       "      <td>392.460</td>\n",
       "      <td>2</td>\n",
       "    </tr>\n",
       "    <tr>\n",
       "      <th>115</th>\n",
       "      <td>86</td>\n",
       "      <td>27.180000</td>\n",
       "      <td>138</td>\n",
       "      <td>19.910</td>\n",
       "      <td>6.777364</td>\n",
       "      <td>90.2800</td>\n",
       "      <td>14.110000</td>\n",
       "      <td>4.35000</td>\n",
       "      <td>90.090</td>\n",
       "      <td>2</td>\n",
       "    </tr>\n",
       "  </tbody>\n",
       "</table>\n",
       "<p>116 rows × 10 columns</p>\n",
       "</div>"
      ],
      "text/plain": [
       "     Age        BMI  Glucose  Insulin      HOMA   Leptin  Adiponectin  \\\n",
       "0     48  23.500000       70    2.707  0.467409   8.8071     9.702400   \n",
       "1     83  20.690495       92    3.115  0.706897   8.8438     5.429285   \n",
       "2     82  23.124670       91    4.498  1.009651  17.9393    22.432040   \n",
       "3     68  21.367521       77    3.226  0.612725   9.8827     7.169560   \n",
       "4     86  21.111111       92    3.549  0.805386   6.6994     4.819240   \n",
       "..   ...        ...      ...      ...       ...      ...          ...   \n",
       "111   45  26.850000       92    3.330  0.755688  54.6800    12.100000   \n",
       "112   62  26.840000      100    4.530  1.117400  12.4500    21.420000   \n",
       "113   65  32.050000       97    5.730  1.370998  61.4800    22.540000   \n",
       "114   72  25.590000       82    2.820  0.570392  24.9600    33.750000   \n",
       "115   86  27.180000      138   19.910  6.777364  90.2800    14.110000   \n",
       "\n",
       "     Resistin    MCP.1  Classification  \n",
       "0     7.99585  417.114               1  \n",
       "1     4.06405  468.786               1  \n",
       "2     9.27715  554.697               1  \n",
       "3    12.76600  928.220               1  \n",
       "4    10.57635  773.920               1  \n",
       "..        ...      ...             ...  \n",
       "111  10.96000  268.230               2  \n",
       "112   7.32000  330.160               2  \n",
       "113  10.33000  314.050               2  \n",
       "114   3.27000  392.460               2  \n",
       "115   4.35000   90.090               2  \n",
       "\n",
       "[116 rows x 10 columns]"
      ]
     },
     "execution_count": 140,
     "metadata": {},
     "output_type": "execute_result"
    }
   ],
   "source": [
    "data = pd.read_csv('dataR2.csv')\n",
    "data"
   ]
  },
  {
   "cell_type": "markdown",
   "id": "2604e5cf",
   "metadata": {},
   "source": [
    "***Preprocessing***"
   ]
  },
  {
   "cell_type": "code",
   "execution_count": 141,
   "id": "24e796c1",
   "metadata": {},
   "outputs": [
    {
     "name": "stdout",
     "output_type": "stream",
     "text": [
      "le nombre de lignes est 116\n",
      "le nombre de colonnes est 10\n"
     ]
    }
   ],
   "source": [
    "#check sur les infos générales \n",
    "print('le nombre de lignes est' ,data.shape[0])\n",
    "print('le nombre de colonnes est' ,data.shape[1])"
   ]
  },
  {
   "cell_type": "code",
   "execution_count": 142,
   "id": "92c2bfbf",
   "metadata": {},
   "outputs": [
    {
     "data": {
      "text/plain": [
       "Age                 int64\n",
       "BMI               float64\n",
       "Glucose             int64\n",
       "Insulin           float64\n",
       "HOMA              float64\n",
       "Leptin            float64\n",
       "Adiponectin       float64\n",
       "Resistin          float64\n",
       "MCP.1             float64\n",
       "Classification      int64\n",
       "dtype: object"
      ]
     },
     "execution_count": 142,
     "metadata": {},
     "output_type": "execute_result"
    }
   ],
   "source": [
    "#Check sur les types de variables\n",
    "data.dtypes"
   ]
  },
  {
   "cell_type": "code",
   "execution_count": 143,
   "id": "551dd75d",
   "metadata": {},
   "outputs": [
    {
     "data": {
      "text/plain": [
       "Age               0\n",
       "BMI               0\n",
       "Glucose           0\n",
       "Insulin           0\n",
       "HOMA              0\n",
       "Leptin            0\n",
       "Adiponectin       0\n",
       "Resistin          0\n",
       "MCP.1             0\n",
       "Classification    0\n",
       "dtype: int64"
      ]
     },
     "execution_count": 143,
     "metadata": {},
     "output_type": "execute_result"
    }
   ],
   "source": [
    "#Check des valeus nulles\n",
    "data.isnull().sum()"
   ]
  },
  {
   "cell_type": "code",
   "execution_count": 144,
   "id": "fd6c3a12",
   "metadata": {},
   "outputs": [
    {
     "data": {
      "text/plain": [
       "Age               0\n",
       "BMI               0\n",
       "Glucose           0\n",
       "Insulin           0\n",
       "HOMA              0\n",
       "Leptin            0\n",
       "Adiponectin       0\n",
       "Resistin          0\n",
       "MCP.1             0\n",
       "Classification    0\n",
       "dtype: int64"
      ]
     },
     "execution_count": 144,
     "metadata": {},
     "output_type": "execute_result"
    }
   ],
   "source": [
    "#Check des valeurs manquantes\n",
    "data.isna().sum()"
   ]
  },
  {
   "cell_type": "code",
   "execution_count": 145,
   "id": "b9eeab3e",
   "metadata": {},
   "outputs": [
    {
     "data": {
      "text/html": [
       "<div>\n",
       "<style scoped>\n",
       "    .dataframe tbody tr th:only-of-type {\n",
       "        vertical-align: middle;\n",
       "    }\n",
       "\n",
       "    .dataframe tbody tr th {\n",
       "        vertical-align: top;\n",
       "    }\n",
       "\n",
       "    .dataframe thead th {\n",
       "        text-align: right;\n",
       "    }\n",
       "</style>\n",
       "<table border=\"1\" class=\"dataframe\">\n",
       "  <thead>\n",
       "    <tr style=\"text-align: right;\">\n",
       "      <th></th>\n",
       "      <th>Age</th>\n",
       "      <th>BMI</th>\n",
       "      <th>Glucose</th>\n",
       "      <th>Insulin</th>\n",
       "      <th>HOMA</th>\n",
       "      <th>Leptin</th>\n",
       "      <th>Adiponectin</th>\n",
       "      <th>Resistin</th>\n",
       "      <th>MCP.1</th>\n",
       "      <th>Classification</th>\n",
       "    </tr>\n",
       "  </thead>\n",
       "  <tbody>\n",
       "    <tr>\n",
       "      <th>0</th>\n",
       "      <td>48</td>\n",
       "      <td>23.500000</td>\n",
       "      <td>70</td>\n",
       "      <td>2.707</td>\n",
       "      <td>0.467409</td>\n",
       "      <td>8.8071</td>\n",
       "      <td>9.702400</td>\n",
       "      <td>7.99585</td>\n",
       "      <td>417.114</td>\n",
       "      <td>0</td>\n",
       "    </tr>\n",
       "    <tr>\n",
       "      <th>1</th>\n",
       "      <td>83</td>\n",
       "      <td>20.690495</td>\n",
       "      <td>92</td>\n",
       "      <td>3.115</td>\n",
       "      <td>0.706897</td>\n",
       "      <td>8.8438</td>\n",
       "      <td>5.429285</td>\n",
       "      <td>4.06405</td>\n",
       "      <td>468.786</td>\n",
       "      <td>0</td>\n",
       "    </tr>\n",
       "    <tr>\n",
       "      <th>2</th>\n",
       "      <td>82</td>\n",
       "      <td>23.124670</td>\n",
       "      <td>91</td>\n",
       "      <td>4.498</td>\n",
       "      <td>1.009651</td>\n",
       "      <td>17.9393</td>\n",
       "      <td>22.432040</td>\n",
       "      <td>9.27715</td>\n",
       "      <td>554.697</td>\n",
       "      <td>0</td>\n",
       "    </tr>\n",
       "    <tr>\n",
       "      <th>3</th>\n",
       "      <td>68</td>\n",
       "      <td>21.367521</td>\n",
       "      <td>77</td>\n",
       "      <td>3.226</td>\n",
       "      <td>0.612725</td>\n",
       "      <td>9.8827</td>\n",
       "      <td>7.169560</td>\n",
       "      <td>12.76600</td>\n",
       "      <td>928.220</td>\n",
       "      <td>0</td>\n",
       "    </tr>\n",
       "    <tr>\n",
       "      <th>4</th>\n",
       "      <td>86</td>\n",
       "      <td>21.111111</td>\n",
       "      <td>92</td>\n",
       "      <td>3.549</td>\n",
       "      <td>0.805386</td>\n",
       "      <td>6.6994</td>\n",
       "      <td>4.819240</td>\n",
       "      <td>10.57635</td>\n",
       "      <td>773.920</td>\n",
       "      <td>0</td>\n",
       "    </tr>\n",
       "    <tr>\n",
       "      <th>...</th>\n",
       "      <td>...</td>\n",
       "      <td>...</td>\n",
       "      <td>...</td>\n",
       "      <td>...</td>\n",
       "      <td>...</td>\n",
       "      <td>...</td>\n",
       "      <td>...</td>\n",
       "      <td>...</td>\n",
       "      <td>...</td>\n",
       "      <td>...</td>\n",
       "    </tr>\n",
       "    <tr>\n",
       "      <th>111</th>\n",
       "      <td>45</td>\n",
       "      <td>26.850000</td>\n",
       "      <td>92</td>\n",
       "      <td>3.330</td>\n",
       "      <td>0.755688</td>\n",
       "      <td>54.6800</td>\n",
       "      <td>12.100000</td>\n",
       "      <td>10.96000</td>\n",
       "      <td>268.230</td>\n",
       "      <td>1</td>\n",
       "    </tr>\n",
       "    <tr>\n",
       "      <th>112</th>\n",
       "      <td>62</td>\n",
       "      <td>26.840000</td>\n",
       "      <td>100</td>\n",
       "      <td>4.530</td>\n",
       "      <td>1.117400</td>\n",
       "      <td>12.4500</td>\n",
       "      <td>21.420000</td>\n",
       "      <td>7.32000</td>\n",
       "      <td>330.160</td>\n",
       "      <td>1</td>\n",
       "    </tr>\n",
       "    <tr>\n",
       "      <th>113</th>\n",
       "      <td>65</td>\n",
       "      <td>32.050000</td>\n",
       "      <td>97</td>\n",
       "      <td>5.730</td>\n",
       "      <td>1.370998</td>\n",
       "      <td>61.4800</td>\n",
       "      <td>22.540000</td>\n",
       "      <td>10.33000</td>\n",
       "      <td>314.050</td>\n",
       "      <td>1</td>\n",
       "    </tr>\n",
       "    <tr>\n",
       "      <th>114</th>\n",
       "      <td>72</td>\n",
       "      <td>25.590000</td>\n",
       "      <td>82</td>\n",
       "      <td>2.820</td>\n",
       "      <td>0.570392</td>\n",
       "      <td>24.9600</td>\n",
       "      <td>33.750000</td>\n",
       "      <td>3.27000</td>\n",
       "      <td>392.460</td>\n",
       "      <td>1</td>\n",
       "    </tr>\n",
       "    <tr>\n",
       "      <th>115</th>\n",
       "      <td>86</td>\n",
       "      <td>27.180000</td>\n",
       "      <td>138</td>\n",
       "      <td>19.910</td>\n",
       "      <td>6.777364</td>\n",
       "      <td>90.2800</td>\n",
       "      <td>14.110000</td>\n",
       "      <td>4.35000</td>\n",
       "      <td>90.090</td>\n",
       "      <td>1</td>\n",
       "    </tr>\n",
       "  </tbody>\n",
       "</table>\n",
       "<p>116 rows × 10 columns</p>\n",
       "</div>"
      ],
      "text/plain": [
       "     Age        BMI  Glucose  Insulin      HOMA   Leptin  Adiponectin  \\\n",
       "0     48  23.500000       70    2.707  0.467409   8.8071     9.702400   \n",
       "1     83  20.690495       92    3.115  0.706897   8.8438     5.429285   \n",
       "2     82  23.124670       91    4.498  1.009651  17.9393    22.432040   \n",
       "3     68  21.367521       77    3.226  0.612725   9.8827     7.169560   \n",
       "4     86  21.111111       92    3.549  0.805386   6.6994     4.819240   \n",
       "..   ...        ...      ...      ...       ...      ...          ...   \n",
       "111   45  26.850000       92    3.330  0.755688  54.6800    12.100000   \n",
       "112   62  26.840000      100    4.530  1.117400  12.4500    21.420000   \n",
       "113   65  32.050000       97    5.730  1.370998  61.4800    22.540000   \n",
       "114   72  25.590000       82    2.820  0.570392  24.9600    33.750000   \n",
       "115   86  27.180000      138   19.910  6.777364  90.2800    14.110000   \n",
       "\n",
       "     Resistin    MCP.1  Classification  \n",
       "0     7.99585  417.114               0  \n",
       "1     4.06405  468.786               0  \n",
       "2     9.27715  554.697               0  \n",
       "3    12.76600  928.220               0  \n",
       "4    10.57635  773.920               0  \n",
       "..        ...      ...             ...  \n",
       "111  10.96000  268.230               1  \n",
       "112   7.32000  330.160               1  \n",
       "113  10.33000  314.050               1  \n",
       "114   3.27000  392.460               1  \n",
       "115   4.35000   90.090               1  \n",
       "\n",
       "[116 rows x 10 columns]"
      ]
     },
     "execution_count": 145,
     "metadata": {},
     "output_type": "execute_result"
    }
   ],
   "source": [
    "#On remplace la valeur 1, indicatif des personnes saines, par la valeur 0 \n",
    "# et la valeur 2 ,indicatif des personnes atteintes, par la valeur 1\n",
    "data['Classification'] = data['Classification'].replace(1,0)\n",
    "data['Classification'] = data['Classification'].replace(2,1)\n",
    "data"
   ]
  },
  {
   "cell_type": "code",
   "execution_count": 146,
   "id": "bfee4044",
   "metadata": {},
   "outputs": [],
   "source": [
    "#Determination de X et Y\n",
    "Y = data['Classification']\n",
    "X = data.drop(['Classification'], axis=1)"
   ]
  },
  {
   "cell_type": "markdown",
   "id": "f3d707c4",
   "metadata": {},
   "source": [
    "***Normalisation***"
   ]
  },
  {
   "cell_type": "code",
   "execution_count": 147,
   "id": "3fe6e3fb",
   "metadata": {},
   "outputs": [],
   "source": [
    "from sklearn.preprocessing import StandardScaler\n",
    "X_cr = StandardScaler().fit_transform(X)"
   ]
  },
  {
   "cell_type": "code",
   "execution_count": 148,
   "id": "2faef646",
   "metadata": {},
   "outputs": [
    {
     "name": "stdout",
     "output_type": "stream",
     "text": [
      "[ 1.49305855e-16 -6.12177933e-16  1.99074473e-16  3.15839309e-17\n",
      "  1.99074473e-16  1.33992434e-16  2.20130427e-17  2.73727401e-16\n",
      " -1.28249901e-16]\n",
      "[1. 1. 1. 1. 1. 1. 1. 1. 1.]\n"
     ]
    }
   ],
   "source": [
    "#Vérification\n",
    "print(X_cr.mean(axis=0))\n",
    "print(X_cr.std(axis=0))"
   ]
  },
  {
   "cell_type": "markdown",
   "id": "36444b05",
   "metadata": {},
   "source": [
    "***Modèle XGBoost***"
   ]
  },
  {
   "cell_type": "code",
   "execution_count": 149,
   "id": "667779b1",
   "metadata": {},
   "outputs": [],
   "source": [
    "#Split des données avec 70% de train et 30% de test \n",
    "from sklearn.model_selection import train_test_split\n",
    "X_train , X_test , Y_train , Y_test = train_test_split (X_cr , Y , test_size=0.3 , random_state=12,stratify=Y)"
   ]
  },
  {
   "cell_type": "code",
   "execution_count": 150,
   "id": "57915bda",
   "metadata": {},
   "outputs": [
    {
     "name": "stdout",
     "output_type": "stream",
     "text": [
      "Requirement already satisfied: xgboost in /Library/Frameworks/Python.framework/Versions/3.10/lib/python3.10/site-packages (1.7.1)\n",
      "Requirement already satisfied: numpy in /Library/Frameworks/Python.framework/Versions/3.10/lib/python3.10/site-packages (from xgboost) (1.23.1)\n",
      "Requirement already satisfied: scipy in /Library/Frameworks/Python.framework/Versions/3.10/lib/python3.10/site-packages (from xgboost) (1.8.1)\n",
      "\n",
      "\u001b[1m[\u001b[0m\u001b[34;49mnotice\u001b[0m\u001b[1;39;49m]\u001b[0m\u001b[39;49m A new release of pip available: \u001b[0m\u001b[31;49m22.3\u001b[0m\u001b[39;49m -> \u001b[0m\u001b[32;49m22.3.1\u001b[0m\n",
      "\u001b[1m[\u001b[0m\u001b[34;49mnotice\u001b[0m\u001b[1;39;49m]\u001b[0m\u001b[39;49m To update, run: \u001b[0m\u001b[32;49mpip install --upgrade pip\u001b[0m\n"
     ]
    }
   ],
   "source": [
    "#Installation du module xgboost\n",
    "!pip install xgboost"
   ]
  },
  {
   "cell_type": "code",
   "execution_count": 151,
   "id": "402002ef",
   "metadata": {},
   "outputs": [
    {
     "name": "stdout",
     "output_type": "stream",
     "text": [
      "0.5517241379310345\n",
      "0.5555555555555556\n",
      "0.5428571428571428\n"
     ]
    }
   ],
   "source": [
    "print(sum(Y)/len(Y))\n",
    "print(sum(Y_train)/len(Y_train))\n",
    "print(sum(Y_test)/len(Y_test))"
   ]
  },
  {
   "cell_type": "markdown",
   "id": "f361a0a8",
   "metadata": {},
   "source": [
    " Le paramètre **objective** définit la fonction de perte à minimiser:\n",
    "     **binary:logistic**: Pour la classification binaire, renvoie la probabilité prédite (et non la classe)"
   ]
  },
  {
   "cell_type": "code",
   "execution_count": 159,
   "id": "f7b08110",
   "metadata": {},
   "outputs": [],
   "source": [
    "#Appel de la fonction\n",
    "from xgboost import XGBClassifier\n",
    "#Instanciation du modèle\n",
    "boost = XGBClassifier(objective='binary:logistic',seed=42)\n",
    "#Fitting du modèle\n",
    "boost.fit(X_train,Y_train)\n",
    "#Prédiction\n",
    "pred_boost = boost.predict(X_test)"
   ]
  },
  {
   "cell_type": "markdown",
   "id": "2b700666",
   "metadata": {},
   "source": [
    "***Evaluation du modèle XGBoost***"
   ]
  },
  {
   "cell_type": "code",
   "execution_count": 160,
   "id": "a7602ca3",
   "metadata": {},
   "outputs": [
    {
     "name": "stdout",
     "output_type": "stream",
     "text": [
      "accuracy du modèle xgboost est 0.7714285714285715\n"
     ]
    }
   ],
   "source": [
    "#Calcul de accurancy\n",
    "from sklearn.metrics import accuracy_score\n",
    "boost_acc = accuracy_score(Y_test, pred_boost)\n",
    "print('accuracy du modèle xgboost est', boost_acc)"
   ]
  },
  {
   "cell_type": "code",
   "execution_count": 161,
   "id": "aaae0bac",
   "metadata": {},
   "outputs": [
    {
     "name": "stderr",
     "output_type": "stream",
     "text": [
      "/Library/Frameworks/Python.framework/Versions/3.10/lib/python3.10/site-packages/sklearn/utils/deprecation.py:87: FutureWarning: Function plot_confusion_matrix is deprecated; Function `plot_confusion_matrix` is deprecated in 1.0 and will be removed in 1.2. Use one of the class methods: ConfusionMatrixDisplay.from_predictions or ConfusionMatrixDisplay.from_estimator.\n",
      "  warnings.warn(msg, category=FutureWarning)\n"
     ]
    },
    {
     "data": {
      "text/plain": [
       "<sklearn.metrics._plot.confusion_matrix.ConfusionMatrixDisplay at 0x12c5b7d60>"
      ]
     },
     "execution_count": 161,
     "metadata": {},
     "output_type": "execute_result"
    },
    {
     "data": {
      "image/png": "[encoded data removed]",
      "text/plain": [
       "<Figure size 432x288 with 2 Axes>"
      ]
     },
     "metadata": {
      "needs_background": "light"
     },
     "output_type": "display_data"
    }
   ],
   "source": [
    "from sklearn.metrics import confusion_matrix\n",
    "from sklearn.metrics import plot_confusion_matrix\n",
    "plot_confusion_matrix(boost,X_test,Y_test,\n",
    "                      values_format='d',\n",
    "                      display_labels=['saine','atteinte'])"
   ]
  },
  {
   "cell_type": "code",
   "execution_count": 163,
   "id": "ace74360",
   "metadata": {},
   "outputs": [
    {
     "name": "stdout",
     "output_type": "stream",
     "text": [
      "              precision    recall  f1-score   support\n",
      "\n",
      "           0       0.72      0.81      0.76        16\n",
      "           1       0.82      0.74      0.78        19\n",
      "\n",
      "    accuracy                           0.77        35\n",
      "   macro avg       0.77      0.77      0.77        35\n",
      "weighted avg       0.78      0.77      0.77        35\n",
      "\n"
     ]
    }
   ],
   "source": [
    "#Visionnage des autres métriques d'évaluation\n",
    "from sklearn.metrics import classification_report\n",
    "print(classification_report(Y_test,pred_boost))"
   ]
  },
  {
   "cell_type": "markdown",
   "id": "6c44b9ec",
   "metadata": {},
   "source": [
    "***Optimisation du modèle XGBoosting***"
   ]
  },
  {
   "cell_type": "code",
   "execution_count": 157,
   "id": "935901e3",
   "metadata": {},
   "outputs": [
    {
     "name": "stdout",
     "output_type": "stream",
     "text": [
      "Fitting 5 folds for each of 10 candidates, totalling 50 fits\n",
      "[CV 1/5; 1/10] START n_estimators=1.............................................\n",
      "[CV 1/5; 1/10] END ..............n_estimators=1;, score=0.706 total time=   0.0s\n",
      "[CV 2/5; 1/10] START n_estimators=1.............................................\n",
      "[CV 2/5; 1/10] END ..............n_estimators=1;, score=0.562 total time=   0.0s\n",
      "[CV 3/5; 1/10] START n_estimators=1.............................................\n",
      "[CV 3/5; 1/10] END ..............n_estimators=1;, score=0.688 total time=   0.0s\n",
      "[CV 4/5; 1/10] START n_estimators=1.............................................\n",
      "[CV 4/5; 1/10] END ..............n_estimators=1;, score=0.562 total time=   0.0s\n",
      "[CV 5/5; 1/10] START n_estimators=1.............................................\n",
      "[CV 5/5; 1/10] END ..............n_estimators=1;, score=0.812 total time=   0.0s\n",
      "[CV 1/5; 2/10] START n_estimators=2.............................................\n",
      "[CV 1/5; 2/10] END ..............n_estimators=2;, score=0.706 total time=   0.0s\n",
      "[CV 2/5; 2/10] START n_estimators=2.............................................\n",
      "[CV 2/5; 2/10] END ..............n_estimators=2;, score=0.562 total time=   0.0s\n",
      "[CV 3/5; 2/10] START n_estimators=2.............................................\n",
      "[CV 3/5; 2/10] END ..............n_estimators=2;, score=0.688 total time=   0.0s\n",
      "[CV 4/5; 2/10] START n_estimators=2.............................................\n",
      "[CV 4/5; 2/10] END ..............n_estimators=2;, score=0.688 total time=   0.0s\n",
      "[CV 5/5; 2/10] START n_estimators=2.............................................\n",
      "[CV 5/5; 2/10] END ..............n_estimators=2;, score=0.812 total time=   0.0s\n",
      "[CV 1/5; 3/10] START n_estimators=3.............................................\n",
      "[CV 1/5; 3/10] END ..............n_estimators=3;, score=0.706 total time=   0.0s\n",
      "[CV 2/5; 3/10] START n_estimators=3.............................................\n",
      "[CV 2/5; 3/10] END ..............n_estimators=3;, score=0.562 total time=   0.0s\n",
      "[CV 3/5; 3/10] START n_estimators=3.............................................\n",
      "[CV 3/5; 3/10] END ..............n_estimators=3;, score=0.750 total time=   0.0s\n",
      "[CV 4/5; 3/10] START n_estimators=3.............................................\n",
      "[CV 4/5; 3/10] END ..............n_estimators=3;, score=0.562 total time=   0.0s\n",
      "[CV 5/5; 3/10] START n_estimators=3.............................................\n",
      "[CV 5/5; 3/10] END ..............n_estimators=3;, score=0.812 total time=   0.0s\n",
      "[CV 1/5; 4/10] START n_estimators=5.............................................\n",
      "[CV 1/5; 4/10] END ..............n_estimators=5;, score=0.706 total time=   0.0s\n",
      "[CV 2/5; 4/10] START n_estimators=5.............................................\n",
      "[CV 2/5; 4/10] END ..............n_estimators=5;, score=0.625 total time=   0.0s\n",
      "[CV 3/5; 4/10] START n_estimators=5.............................................\n",
      "[CV 3/5; 4/10] END ..............n_estimators=5;, score=0.750 total time=   0.0s\n",
      "[CV 4/5; 4/10] START n_estimators=5.............................................\n",
      "[CV 4/5; 4/10] END ..............n_estimators=5;, score=0.500 total time=   0.0s\n",
      "[CV 5/5; 4/10] START n_estimators=5.............................................\n",
      "[CV 5/5; 4/10] END ..............n_estimators=5;, score=0.812 total time=   0.0s\n",
      "[CV 1/5; 5/10] START n_estimators=6.............................................\n",
      "[CV 1/5; 5/10] END ..............n_estimators=6;, score=0.706 total time=   0.0s\n",
      "[CV 2/5; 5/10] START n_estimators=6.............................................\n",
      "[CV 2/5; 5/10] END ..............n_estimators=6;, score=0.688 total time=   0.0s\n",
      "[CV 3/5; 5/10] START n_estimators=6.............................................\n",
      "[CV 3/5; 5/10] END ..............n_estimators=6;, score=0.750 total time=   0.0s\n",
      "[CV 4/5; 5/10] START n_estimators=6.............................................\n",
      "[CV 4/5; 5/10] END ..............n_estimators=6;, score=0.562 total time=   0.0s\n",
      "[CV 5/5; 5/10] START n_estimators=6.............................................\n",
      "[CV 5/5; 5/10] END ..............n_estimators=6;, score=0.812 total time=   0.0s\n",
      "[CV 1/5; 6/10] START max_depth=2................................................\n",
      "[CV 1/5; 6/10] END .................max_depth=2;, score=0.706 total time=   0.0s\n",
      "[CV 2/5; 6/10] START max_depth=2................................................\n",
      "[CV 2/5; 6/10] END .................max_depth=2;, score=0.688 total time=   0.0s\n",
      "[CV 3/5; 6/10] START max_depth=2................................................\n",
      "[CV 3/5; 6/10] END .................max_depth=2;, score=0.812 total time=   0.0s\n",
      "[CV 4/5; 6/10] START max_depth=2................................................\n",
      "[CV 4/5; 6/10] END .................max_depth=2;, score=0.438 total time=   0.0s\n",
      "[CV 5/5; 6/10] START max_depth=2................................................\n",
      "[CV 5/5; 6/10] END .................max_depth=2;, score=0.875 total time=   0.0s\n",
      "[CV 1/5; 7/10] START max_depth=4................................................\n",
      "[CV 1/5; 7/10] END .................max_depth=4;, score=0.706 total time=   0.0s\n",
      "[CV 2/5; 7/10] START max_depth=4................................................\n",
      "[CV 2/5; 7/10] END .................max_depth=4;, score=0.562 total time=   0.1s\n",
      "[CV 3/5; 7/10] START max_depth=4................................................\n",
      "[CV 3/5; 7/10] END .................max_depth=4;, score=0.812 total time=   0.0s\n",
      "[CV 4/5; 7/10] START max_depth=4................................................\n",
      "[CV 4/5; 7/10] END .................max_depth=4;, score=0.500 total time=   0.0s\n",
      "[CV 5/5; 7/10] START max_depth=4................................................\n",
      "[CV 5/5; 7/10] END .................max_depth=4;, score=0.875 total time=   0.0s\n",
      "[CV 1/5; 8/10] START max_depth=5................................................\n",
      "[CV 1/5; 8/10] END .................max_depth=5;, score=0.706 total time=   0.0s\n",
      "[CV 2/5; 8/10] START max_depth=5................................................\n",
      "[CV 2/5; 8/10] END .................max_depth=5;, score=0.625 total time=   0.0s\n",
      "[CV 3/5; 8/10] START max_depth=5................................................\n",
      "[CV 3/5; 8/10] END .................max_depth=5;, score=0.812 total time=   0.0s\n",
      "[CV 4/5; 8/10] START max_depth=5................................................\n",
      "[CV 4/5; 8/10] END .................max_depth=5;, score=0.500 total time=   0.0s\n",
      "[CV 5/5; 8/10] START max_depth=5................................................\n",
      "[CV 5/5; 8/10] END .................max_depth=5;, score=0.875 total time=   0.1s\n",
      "[CV 1/5; 9/10] START max_depth=6................................................\n",
      "[CV 1/5; 9/10] END .................max_depth=6;, score=0.706 total time=   0.0s\n",
      "[CV 2/5; 9/10] START max_depth=6................................................\n",
      "[CV 2/5; 9/10] END .................max_depth=6;, score=0.625 total time=   0.1s\n",
      "[CV 3/5; 9/10] START max_depth=6................................................\n",
      "[CV 3/5; 9/10] END .................max_depth=6;, score=0.812 total time=   0.1s\n",
      "[CV 4/5; 9/10] START max_depth=6................................................\n",
      "[CV 4/5; 9/10] END .................max_depth=6;, score=0.500 total time=   0.1s\n",
      "[CV 5/5; 9/10] START max_depth=6................................................\n",
      "[CV 5/5; 9/10] END .................max_depth=6;, score=0.875 total time=   0.0s\n",
      "[CV 1/5; 10/10] START max_depth=2...............................................\n",
      "[CV 1/5; 10/10] END ................max_depth=2;, score=0.706 total time=   0.0s\n",
      "[CV 2/5; 10/10] START max_depth=2...............................................\n",
      "[CV 2/5; 10/10] END ................max_depth=2;, score=0.688 total time=   0.0s\n",
      "[CV 3/5; 10/10] START max_depth=2...............................................\n",
      "[CV 3/5; 10/10] END ................max_depth=2;, score=0.812 total time=   0.0s\n",
      "[CV 4/5; 10/10] START max_depth=2...............................................\n",
      "[CV 4/5; 10/10] END ................max_depth=2;, score=0.438 total time=   0.1s\n",
      "[CV 5/5; 10/10] START max_depth=2...............................................\n",
      "[CV 5/5; 10/10] END ................max_depth=2;, score=0.875 total time=   0.0s\n"
     ]
    },
    {
     "data": {
      "text/html": [
       "<style>#sk-container-id-21 {color: black;background-color: white;}#sk-container-id-21 pre{padding: 0;}#sk-container-id-21 div.sk-toggleable {background-color: white;}#sk-container-id-21 label.sk-toggleable__label {cursor: pointer;display: block;width: 100%;margin-bottom: 0;padding: 0.3em;box-sizing: border-box;text-align: center;}#sk-container-id-21 label.sk-toggleable__label-arrow:before {content: \"▸\";float: left;margin-right: 0.25em;color: #696969;}#sk-container-id-21 label.sk-toggleable__label-arrow:hover:before {color: black;}#sk-container-id-21 div.sk-estimator:hover label.sk-toggleable__label-arrow:before {color: black;}#sk-container-id-21 div.sk-toggleable__content {max-height: 0;max-width: 0;overflow: hidden;text-align: left;background-color: #f0f8ff;}#sk-container-id-21 div.sk-toggleable__content pre {margin: 0.2em;color: black;border-radius: 0.25em;background-color: #f0f8ff;}#sk-container-id-21 input.sk-toggleable__control:checked~div.sk-toggleable__content {max-height: 200px;max-width: 100%;overflow: auto;}#sk-container-id-21 input.sk-toggleable__control:checked~label.sk-toggleable__label-arrow:before {content: \"▾\";}#sk-container-id-21 div.sk-estimator input.sk-toggleable__control:checked~label.sk-toggleable__label {background-color: #d4ebff;}#sk-container-id-21 div.sk-label input.sk-toggleable__control:checked~label.sk-toggleable__label {background-color: #d4ebff;}#sk-container-id-21 input.sk-hidden--visually {border: 0;clip: rect(1px 1px 1px 1px);clip: rect(1px, 1px, 1px, 1px);height: 1px;margin: -1px;overflow: hidden;padding: 0;position: absolute;width: 1px;}#sk-container-id-21 div.sk-estimator {font-family: monospace;background-color: #f0f8ff;border: 1px dotted black;border-radius: 0.25em;box-sizing: border-box;margin-bottom: 0.5em;}#sk-container-id-21 div.sk-estimator:hover {background-color: #d4ebff;}#sk-container-id-21 div.sk-parallel-item::after {content: \"\";width: 100%;border-bottom: 1px solid gray;flex-grow: 1;}#sk-container-id-21 div.sk-label:hover label.sk-toggleable__label {background-color: #d4ebff;}#sk-container-id-21 div.sk-serial::before {content: \"\";position: absolute;border-left: 1px solid gray;box-sizing: border-box;top: 0;bottom: 0;left: 50%;z-index: 0;}#sk-container-id-21 div.sk-serial {display: flex;flex-direction: column;align-items: center;background-color: white;padding-right: 0.2em;padding-left: 0.2em;position: relative;}#sk-container-id-21 div.sk-item {position: relative;z-index: 1;}#sk-container-id-21 div.sk-parallel {display: flex;align-items: stretch;justify-content: center;background-color: white;position: relative;}#sk-container-id-21 div.sk-item::before, #sk-container-id-21 div.sk-parallel-item::before {content: \"\";position: absolute;border-left: 1px solid gray;box-sizing: border-box;top: 0;bottom: 0;left: 50%;z-index: -1;}#sk-container-id-21 div.sk-parallel-item {display: flex;flex-direction: column;z-index: 1;position: relative;background-color: white;}#sk-container-id-21 div.sk-parallel-item:first-child::after {align-self: flex-end;width: 50%;}#sk-container-id-21 div.sk-parallel-item:last-child::after {align-self: flex-start;width: 50%;}#sk-container-id-21 div.sk-parallel-item:only-child::after {width: 0;}#sk-container-id-21 div.sk-dashed-wrapped {border: 1px dashed gray;margin: 0 0.4em 0.5em 0.4em;box-sizing: border-box;padding-bottom: 0.4em;background-color: white;}#sk-container-id-21 div.sk-label label {font-family: monospace;font-weight: bold;display: inline-block;line-height: 1.2em;}#sk-container-id-21 div.sk-label-container {text-align: center;}#sk-container-id-21 div.sk-container {/* jupyter's `normalize.less` sets `[hidden] { display: none; }` but bootstrap.min.css set `[hidden] { display: none !important; }` so we also need the `!important` here to be able to override the default hidden behavior on the sphinx rendered scikit-learn.org. See: https://github.com/scikit-learn/scikit-learn/issues/21755 */display: inline-block !important;position: relative;}#sk-container-id-21 div.sk-text-repr-fallback {display: none;}</style><div id=\"sk-container-id-21\" class=\"sk-top-container\"><div class=\"sk-text-repr-fallback\"><pre>GridSearchCV(cv=5,\n",
       "             estimator=XGBClassifier(base_score=None, booster=None,\n",
       "                                     callbacks=None, colsample_bylevel=None,\n",
       "                                     colsample_bynode=None,\n",
       "                                     colsample_bytree=None,\n",
       "                                     early_stopping_rounds=None,\n",
       "                                     enable_categorical=False, eval_metric=None,\n",
       "                                     feature_types=None, gamma=None,\n",
       "                                     gpu_id=None, grow_policy=None,\n",
       "                                     importance_type=None,\n",
       "                                     interaction_constraints=None,\n",
       "                                     learning_rate=None, max_bin=None,\n",
       "                                     max_cat_threshold=None,\n",
       "                                     max_cat_to_onehot=None,\n",
       "                                     max_delta_step=None, max_depth=None,\n",
       "                                     max_leaves=None, min_child_weight=None,\n",
       "                                     missing=nan, monotone_constraints=None,\n",
       "                                     n_estimators=100, n_jobs=None,\n",
       "                                     num_parallel_tree=None, predictor=None,\n",
       "                                     random_state=None, ...),\n",
       "             param_grid=[{&#x27;n_estimators&#x27;: [1, 2, 3, 5, 6]},\n",
       "                         {&#x27;max_depth&#x27;: [2, 4, 5, 6, 2]}],\n",
       "             verbose=10)</pre><b>In a Jupyter environment, please rerun this cell to show the HTML representation or trust the notebook. <br />On GitHub, the HTML representation is unable to render, please try loading this page with nbviewer.org.</b></div><div class=\"sk-container\" hidden><div class=\"sk-item sk-dashed-wrapped\"><div class=\"sk-label-container\"><div class=\"sk-label sk-toggleable\"><input class=\"sk-toggleable__control sk-hidden--visually\" id=\"sk-estimator-id-59\" type=\"checkbox\" ><label for=\"sk-estimator-id-59\" class=\"sk-toggleable__label sk-toggleable__label-arrow\">GridSearchCV</label><div class=\"sk-toggleable__content\"><pre>GridSearchCV(cv=5,\n",
       "             estimator=XGBClassifier(base_score=None, booster=None,\n",
       "                                     callbacks=None, colsample_bylevel=None,\n",
       "                                     colsample_bynode=None,\n",
       "                                     colsample_bytree=None,\n",
       "                                     early_stopping_rounds=None,\n",
       "                                     enable_categorical=False, eval_metric=None,\n",
       "                                     feature_types=None, gamma=None,\n",
       "                                     gpu_id=None, grow_policy=None,\n",
       "                                     importance_type=None,\n",
       "                                     interaction_constraints=None,\n",
       "                                     learning_rate=None, max_bin=None,\n",
       "                                     max_cat_threshold=None,\n",
       "                                     max_cat_to_onehot=None,\n",
       "                                     max_delta_step=None, max_depth=None,\n",
       "                                     max_leaves=None, min_child_weight=None,\n",
       "                                     missing=nan, monotone_constraints=None,\n",
       "                                     n_estimators=100, n_jobs=None,\n",
       "                                     num_parallel_tree=None, predictor=None,\n",
       "                                     random_state=None, ...),\n",
       "             param_grid=[{&#x27;n_estimators&#x27;: [1, 2, 3, 5, 6]},\n",
       "                         {&#x27;max_depth&#x27;: [2, 4, 5, 6, 2]}],\n",
       "             verbose=10)</pre></div></div></div><div class=\"sk-parallel\"><div class=\"sk-parallel-item\"><div class=\"sk-item\"><div class=\"sk-label-container\"><div class=\"sk-label sk-toggleable\"><input class=\"sk-toggleable__control sk-hidden--visually\" id=\"sk-estimator-id-60\" type=\"checkbox\" ><label for=\"sk-estimator-id-60\" class=\"sk-toggleable__label sk-toggleable__label-arrow\">estimator: XGBClassifier</label><div class=\"sk-toggleable__content\"><pre>XGBClassifier(base_score=None, booster=None, callbacks=None,\n",
       "              colsample_bylevel=None, colsample_bynode=None,\n",
       "              colsample_bytree=None, early_stopping_rounds=None,\n",
       "              enable_categorical=False, eval_metric=None, feature_types=None,\n",
       "              gamma=None, gpu_id=None, grow_policy=None, importance_type=None,\n",
       "              interaction_constraints=None, learning_rate=None, max_bin=None,\n",
       "              max_cat_threshold=None, max_cat_to_onehot=None,\n",
       "              max_delta_step=None, max_depth=None, max_leaves=None,\n",
       "              min_child_weight=None, missing=nan, monotone_constraints=None,\n",
       "              n_estimators=100, n_jobs=None, num_parallel_tree=None,\n",
       "              predictor=None, random_state=None, ...)</pre></div></div></div><div class=\"sk-serial\"><div class=\"sk-item\"><div class=\"sk-estimator sk-toggleable\"><input class=\"sk-toggleable__control sk-hidden--visually\" id=\"sk-estimator-id-61\" type=\"checkbox\" ><label for=\"sk-estimator-id-61\" class=\"sk-toggleable__label sk-toggleable__label-arrow\">XGBClassifier</label><div class=\"sk-toggleable__content\"><pre>XGBClassifier(base_score=None, booster=None, callbacks=None,\n",
       "              colsample_bylevel=None, colsample_bynode=None,\n",
       "              colsample_bytree=None, early_stopping_rounds=None,\n",
       "              enable_categorical=False, eval_metric=None, feature_types=None,\n",
       "              gamma=None, gpu_id=None, grow_policy=None, importance_type=None,\n",
       "              interaction_constraints=None, learning_rate=None, max_bin=None,\n",
       "              max_cat_threshold=None, max_cat_to_onehot=None,\n",
       "              max_delta_step=None, max_depth=None, max_leaves=None,\n",
       "              min_child_weight=None, missing=nan, monotone_constraints=None,\n",
       "              n_estimators=100, n_jobs=None, num_parallel_tree=None,\n",
       "              predictor=None, random_state=None, ...)</pre></div></div></div></div></div></div></div></div></div></div>"
      ],
      "text/plain": [
       "GridSearchCV(cv=5,\n",
       "             estimator=XGBClassifier(base_score=None, booster=None,\n",
       "                                     callbacks=None, colsample_bylevel=None,\n",
       "                                     colsample_bynode=None,\n",
       "                                     colsample_bytree=None,\n",
       "                                     early_stopping_rounds=None,\n",
       "                                     enable_categorical=False, eval_metric=None,\n",
       "                                     feature_types=None, gamma=None,\n",
       "                                     gpu_id=None, grow_policy=None,\n",
       "                                     importance_type=None,\n",
       "                                     interaction_constraints=None,\n",
       "                                     learning_rate=None, max_bin=None,\n",
       "                                     max_cat_threshold=None,\n",
       "                                     max_cat_to_onehot=None,\n",
       "                                     max_delta_step=None, max_depth=None,\n",
       "                                     max_leaves=None, min_child_weight=None,\n",
       "                                     missing=nan, monotone_constraints=None,\n",
       "                                     n_estimators=100, n_jobs=None,\n",
       "                                     num_parallel_tree=None, predictor=None,\n",
       "                                     random_state=None, ...),\n",
       "             param_grid=[{'n_estimators': [1, 2, 3, 5, 6]},\n",
       "                         {'max_depth': [2, 4, 5, 6, 2]}],\n",
       "             verbose=10)"
      ]
     },
     "execution_count": 157,
     "metadata": {},
     "output_type": "execute_result"
    }
   ],
   "source": [
    "from sklearn.model_selection import GridSearchCV\n",
    "#Paramètres du grid\n",
    "params =[\n",
    "    {'n_estimators':[1,2,3,5,6]}, #Nombre de tours de boost\n",
    "    {'max_depth':[2,4,5,6,2]} #profondeur maximale de l'arborescence\n",
    "]\n",
    "#Initialisation du modèle\n",
    "boost = XGBClassifier()\n",
    "best_model = GridSearchCV(boost, params,cv=5, verbose=10)\n",
    "best_model.fit(X_train,Y_train)"
   ]
  },
  {
   "cell_type": "code",
   "execution_count": 158,
   "id": "052fb8b0",
   "metadata": {},
   "outputs": [
    {
     "name": "stdout",
     "output_type": "stream",
     "text": [
      "le best paramètre du modèle de XGBoost est {'n_estimators': 6}\n",
      "le best score du modèle XGBoost  est 0.7036764705882353\n"
     ]
    }
   ],
   "source": [
    "print('le best paramètre du modèle de XGBoost est', best_model.best_params_)\n",
    "print('le best score du modèle XGBoost  est',best_model.best_score_)"
   ]
  },
  {
   "cell_type": "markdown",
   "id": "c5c601ad",
   "metadata": {},
   "source": [
    "***Comparaison avec les autres modèles de classification***"
   ]
  },
  {
   "cell_type": "markdown",
   "id": "ed0c3b67",
   "metadata": {},
   "source": [
    "**Modèle K-NN**"
   ]
  },
  {
   "cell_type": "code",
   "execution_count": 99,
   "id": "85f66920",
   "metadata": {},
   "outputs": [
    {
     "name": "stdout",
     "output_type": "stream",
     "text": [
      "accuracy du modele de K-NN est 0.8285714285714286\n"
     ]
    }
   ],
   "source": [
    "#Application du modèle K-NN\n",
    "from sklearn.neighbors import KNeighborsClassifier \n",
    "from sklearn.metrics import accuracy_score\n",
    "model = KNeighborsClassifier(n_neighbors=5)\n",
    "model.fit(X_train,Y_train)\n",
    "pred= model.predict(X_test)\n",
    "taux = accuracy_score(pred, Y_test)\n",
    "print('accuracy du modele de K-NN est',taux)"
   ]
  },
  {
   "cell_type": "code",
   "execution_count": 100,
   "id": "4285ccb7",
   "metadata": {},
   "outputs": [
    {
     "name": "stdout",
     "output_type": "stream",
     "text": [
      "              precision    recall  f1-score   support\n",
      "\n",
      "           0       0.86      0.75      0.80        16\n",
      "           1       0.81      0.89      0.85        19\n",
      "\n",
      "    accuracy                           0.83        35\n",
      "   macro avg       0.83      0.82      0.82        35\n",
      "weighted avg       0.83      0.83      0.83        35\n",
      "\n"
     ]
    }
   ],
   "source": [
    "#Visionnage des autres métriques d'évaluation\n",
    "from sklearn.metrics import classification_report\n",
    "print(classification_report(Y_test,pred))"
   ]
  },
  {
   "cell_type": "code",
   "execution_count": 101,
   "id": "b70d7b60",
   "metadata": {},
   "outputs": [
    {
     "name": "stdout",
     "output_type": "stream",
     "text": [
      "Fitting 5 folds for each of 10 candidates, totalling 50 fits\n",
      "[CV 1/5; 1/10] START n_neighbors=1..............................................\n",
      "[CV 1/5; 1/10] END ...............n_neighbors=1;, score=0.647 total time=   0.0s\n",
      "[CV 2/5; 1/10] START n_neighbors=1..............................................\n",
      "[CV 2/5; 1/10] END ...............n_neighbors=1;, score=0.438 total time=   0.0s\n",
      "[CV 3/5; 1/10] START n_neighbors=1..............................................\n",
      "[CV 3/5; 1/10] END ...............n_neighbors=1;, score=0.812 total time=   0.0s\n",
      "[CV 4/5; 1/10] START n_neighbors=1..............................................\n",
      "[CV 4/5; 1/10] END ...............n_neighbors=1;, score=0.625 total time=   0.0s\n",
      "[CV 5/5; 1/10] START n_neighbors=1..............................................\n",
      "[CV 5/5; 1/10] END ...............n_neighbors=1;, score=0.812 total time=   0.0s\n",
      "[CV 1/5; 2/10] START n_neighbors=2..............................................\n",
      "[CV 1/5; 2/10] END ...............n_neighbors=2;, score=0.588 total time=   0.0s\n",
      "[CV 2/5; 2/10] START n_neighbors=2..............................................\n",
      "[CV 2/5; 2/10] END ...............n_neighbors=2;, score=0.500 total time=   0.0s\n",
      "[CV 3/5; 2/10] START n_neighbors=2..............................................\n",
      "[CV 3/5; 2/10] END ...............n_neighbors=2;, score=0.812 total time=   0.0s\n",
      "[CV 4/5; 2/10] START n_neighbors=2..............................................\n",
      "[CV 4/5; 2/10] END ...............n_neighbors=2;, score=0.562 total time=   0.0s\n",
      "[CV 5/5; 2/10] START n_neighbors=2..............................................\n",
      "[CV 5/5; 2/10] END ...............n_neighbors=2;, score=0.500 total time=   0.0s\n",
      "[CV 1/5; 3/10] START n_neighbors=3..............................................\n",
      "[CV 1/5; 3/10] END ...............n_neighbors=3;, score=0.824 total time=   0.0s\n",
      "[CV 2/5; 3/10] START n_neighbors=3..............................................\n",
      "[CV 2/5; 3/10] END ...............n_neighbors=3;, score=0.375 total time=   0.0s\n",
      "[CV 3/5; 3/10] START n_neighbors=3..............................................\n",
      "[CV 3/5; 3/10] END ...............n_neighbors=3;, score=0.812 total time=   0.0s\n",
      "[CV 4/5; 3/10] START n_neighbors=3..............................................\n",
      "[CV 4/5; 3/10] END ...............n_neighbors=3;, score=0.625 total time=   0.0s\n",
      "[CV 5/5; 3/10] START n_neighbors=3..............................................\n",
      "[CV 5/5; 3/10] END ...............n_neighbors=3;, score=0.750 total time=   0.0s\n",
      "[CV 1/5; 4/10] START n_neighbors=5..............................................\n",
      "[CV 1/5; 4/10] END ...............n_neighbors=5;, score=0.765 total time=   0.0s\n",
      "[CV 2/5; 4/10] START n_neighbors=5..............................................\n",
      "[CV 2/5; 4/10] END ...............n_neighbors=5;, score=0.625 total time=   0.0s\n",
      "[CV 3/5; 4/10] START n_neighbors=5..............................................\n",
      "[CV 3/5; 4/10] END ...............n_neighbors=5;, score=0.750 total time=   0.0s\n",
      "[CV 4/5; 4/10] START n_neighbors=5..............................................\n",
      "[CV 4/5; 4/10] END ...............n_neighbors=5;, score=0.625 total time=   0.0s\n",
      "[CV 5/5; 4/10] START n_neighbors=5..............................................\n",
      "[CV 5/5; 4/10] END ...............n_neighbors=5;, score=0.750 total time=   0.0s\n",
      "[CV 1/5; 5/10] START n_neighbors=6..............................................\n",
      "[CV 1/5; 5/10] END ...............n_neighbors=6;, score=0.765 total time=   0.0s\n",
      "[CV 2/5; 5/10] START n_neighbors=6..............................................\n",
      "[CV 2/5; 5/10] END ...............n_neighbors=6;, score=0.500 total time=   0.0s\n",
      "[CV 3/5; 5/10] START n_neighbors=6..............................................\n",
      "[CV 3/5; 5/10] END ...............n_neighbors=6;, score=0.812 total time=   0.0s\n",
      "[CV 4/5; 5/10] START n_neighbors=6..............................................\n",
      "[CV 4/5; 5/10] END ...............n_neighbors=6;, score=0.438 total time=   0.0s\n",
      "[CV 5/5; 5/10] START n_neighbors=6..............................................\n",
      "[CV 5/5; 5/10] END ...............n_neighbors=6;, score=0.688 total time=   0.0s\n",
      "[CV 1/5; 6/10] START leaf_size=2................................................\n",
      "[CV 1/5; 6/10] END .................leaf_size=2;, score=0.765 total time=   0.0s\n",
      "[CV 2/5; 6/10] START leaf_size=2................................................\n",
      "[CV 2/5; 6/10] END .................leaf_size=2;, score=0.625 total time=   0.0s\n",
      "[CV 3/5; 6/10] START leaf_size=2................................................\n",
      "[CV 3/5; 6/10] END .................leaf_size=2;, score=0.750 total time=   0.0s\n",
      "[CV 4/5; 6/10] START leaf_size=2................................................\n",
      "[CV 4/5; 6/10] END .................leaf_size=2;, score=0.625 total time=   0.0s\n",
      "[CV 5/5; 6/10] START leaf_size=2................................................\n",
      "[CV 5/5; 6/10] END .................leaf_size=2;, score=0.750 total time=   0.0s\n",
      "[CV 1/5; 7/10] START leaf_size=4................................................\n",
      "[CV 1/5; 7/10] END .................leaf_size=4;, score=0.765 total time=   0.0s\n",
      "[CV 2/5; 7/10] START leaf_size=4................................................\n",
      "[CV 2/5; 7/10] END .................leaf_size=4;, score=0.625 total time=   0.0s\n",
      "[CV 3/5; 7/10] START leaf_size=4................................................\n",
      "[CV 3/5; 7/10] END .................leaf_size=4;, score=0.750 total time=   0.0s\n",
      "[CV 4/5; 7/10] START leaf_size=4................................................\n",
      "[CV 4/5; 7/10] END .................leaf_size=4;, score=0.625 total time=   0.0s\n",
      "[CV 5/5; 7/10] START leaf_size=4................................................\n",
      "[CV 5/5; 7/10] END .................leaf_size=4;, score=0.750 total time=   0.0s\n",
      "[CV 1/5; 8/10] START leaf_size=5................................................\n",
      "[CV 1/5; 8/10] END .................leaf_size=5;, score=0.765 total time=   0.0s\n",
      "[CV 2/5; 8/10] START leaf_size=5................................................\n",
      "[CV 2/5; 8/10] END .................leaf_size=5;, score=0.625 total time=   0.0s\n",
      "[CV 3/5; 8/10] START leaf_size=5................................................\n",
      "[CV 3/5; 8/10] END .................leaf_size=5;, score=0.750 total time=   0.0s\n",
      "[CV 4/5; 8/10] START leaf_size=5................................................\n",
      "[CV 4/5; 8/10] END .................leaf_size=5;, score=0.625 total time=   0.0s\n",
      "[CV 5/5; 8/10] START leaf_size=5................................................\n",
      "[CV 5/5; 8/10] END .................leaf_size=5;, score=0.750 total time=   0.0s\n",
      "[CV 1/5; 9/10] START leaf_size=6................................................\n",
      "[CV 1/5; 9/10] END .................leaf_size=6;, score=0.765 total time=   0.0s\n",
      "[CV 2/5; 9/10] START leaf_size=6................................................\n",
      "[CV 2/5; 9/10] END .................leaf_size=6;, score=0.625 total time=   0.0s\n",
      "[CV 3/5; 9/10] START leaf_size=6................................................\n",
      "[CV 3/5; 9/10] END .................leaf_size=6;, score=0.750 total time=   0.0s\n",
      "[CV 4/5; 9/10] START leaf_size=6................................................\n",
      "[CV 4/5; 9/10] END .................leaf_size=6;, score=0.625 total time=   0.0s\n",
      "[CV 5/5; 9/10] START leaf_size=6................................................\n",
      "[CV 5/5; 9/10] END .................leaf_size=6;, score=0.750 total time=   0.0s\n",
      "[CV 1/5; 10/10] START leaf_size=2...............................................\n",
      "[CV 1/5; 10/10] END ................leaf_size=2;, score=0.765 total time=   0.0s\n",
      "[CV 2/5; 10/10] START leaf_size=2...............................................\n",
      "[CV 2/5; 10/10] END ................leaf_size=2;, score=0.625 total time=   0.0s\n",
      "[CV 3/5; 10/10] START leaf_size=2...............................................\n",
      "[CV 3/5; 10/10] END ................leaf_size=2;, score=0.750 total time=   0.0s\n",
      "[CV 4/5; 10/10] START leaf_size=2...............................................\n",
      "[CV 4/5; 10/10] END ................leaf_size=2;, score=0.625 total time=   0.0s\n",
      "[CV 5/5; 10/10] START leaf_size=2...............................................\n",
      "[CV 5/5; 10/10] END ................leaf_size=2;, score=0.750 total time=   0.0s\n"
     ]
    },
    {
     "data": {
      "text/html": [
       "<style>#sk-container-id-13 {color: black;background-color: white;}#sk-container-id-13 pre{padding: 0;}#sk-container-id-13 div.sk-toggleable {background-color: white;}#sk-container-id-13 label.sk-toggleable__label {cursor: pointer;display: block;width: 100%;margin-bottom: 0;padding: 0.3em;box-sizing: border-box;text-align: center;}#sk-container-id-13 label.sk-toggleable__label-arrow:before {content: \"▸\";float: left;margin-right: 0.25em;color: #696969;}#sk-container-id-13 label.sk-toggleable__label-arrow:hover:before {color: black;}#sk-container-id-13 div.sk-estimator:hover label.sk-toggleable__label-arrow:before {color: black;}#sk-container-id-13 div.sk-toggleable__content {max-height: 0;max-width: 0;overflow: hidden;text-align: left;background-color: #f0f8ff;}#sk-container-id-13 div.sk-toggleable__content pre {margin: 0.2em;color: black;border-radius: 0.25em;background-color: #f0f8ff;}#sk-container-id-13 input.sk-toggleable__control:checked~div.sk-toggleable__content {max-height: 200px;max-width: 100%;overflow: auto;}#sk-container-id-13 input.sk-toggleable__control:checked~label.sk-toggleable__label-arrow:before {content: \"▾\";}#sk-container-id-13 div.sk-estimator input.sk-toggleable__control:checked~label.sk-toggleable__label {background-color: #d4ebff;}#sk-container-id-13 div.sk-label input.sk-toggleable__control:checked~label.sk-toggleable__label {background-color: #d4ebff;}#sk-container-id-13 input.sk-hidden--visually {border: 0;clip: rect(1px 1px 1px 1px);clip: rect(1px, 1px, 1px, 1px);height: 1px;margin: -1px;overflow: hidden;padding: 0;position: absolute;width: 1px;}#sk-container-id-13 div.sk-estimator {font-family: monospace;background-color: #f0f8ff;border: 1px dotted black;border-radius: 0.25em;box-sizing: border-box;margin-bottom: 0.5em;}#sk-container-id-13 div.sk-estimator:hover {background-color: #d4ebff;}#sk-container-id-13 div.sk-parallel-item::after {content: \"\";width: 100%;border-bottom: 1px solid gray;flex-grow: 1;}#sk-container-id-13 div.sk-label:hover label.sk-toggleable__label {background-color: #d4ebff;}#sk-container-id-13 div.sk-serial::before {content: \"\";position: absolute;border-left: 1px solid gray;box-sizing: border-box;top: 0;bottom: 0;left: 50%;z-index: 0;}#sk-container-id-13 div.sk-serial {display: flex;flex-direction: column;align-items: center;background-color: white;padding-right: 0.2em;padding-left: 0.2em;position: relative;}#sk-container-id-13 div.sk-item {position: relative;z-index: 1;}#sk-container-id-13 div.sk-parallel {display: flex;align-items: stretch;justify-content: center;background-color: white;position: relative;}#sk-container-id-13 div.sk-item::before, #sk-container-id-13 div.sk-parallel-item::before {content: \"\";position: absolute;border-left: 1px solid gray;box-sizing: border-box;top: 0;bottom: 0;left: 50%;z-index: -1;}#sk-container-id-13 div.sk-parallel-item {display: flex;flex-direction: column;z-index: 1;position: relative;background-color: white;}#sk-container-id-13 div.sk-parallel-item:first-child::after {align-self: flex-end;width: 50%;}#sk-container-id-13 div.sk-parallel-item:last-child::after {align-self: flex-start;width: 50%;}#sk-container-id-13 div.sk-parallel-item:only-child::after {width: 0;}#sk-container-id-13 div.sk-dashed-wrapped {border: 1px dashed gray;margin: 0 0.4em 0.5em 0.4em;box-sizing: border-box;padding-bottom: 0.4em;background-color: white;}#sk-container-id-13 div.sk-label label {font-family: monospace;font-weight: bold;display: inline-block;line-height: 1.2em;}#sk-container-id-13 div.sk-label-container {text-align: center;}#sk-container-id-13 div.sk-container {/* jupyter's `normalize.less` sets `[hidden] { display: none; }` but bootstrap.min.css set `[hidden] { display: none !important; }` so we also need the `!important` here to be able to override the default hidden behavior on the sphinx rendered scikit-learn.org. See: https://github.com/scikit-learn/scikit-learn/issues/21755 */display: inline-block !important;position: relative;}#sk-container-id-13 div.sk-text-repr-fallback {display: none;}</style><div id=\"sk-container-id-13\" class=\"sk-top-container\"><div class=\"sk-text-repr-fallback\"><pre>GridSearchCV(cv=5, estimator=KNeighborsClassifier(),\n",
       "             param_grid=[{&#x27;n_neighbors&#x27;: [1, 2, 3, 5, 6]},\n",
       "                         {&#x27;leaf_size&#x27;: [2, 4, 5, 6, 2]}],\n",
       "             verbose=10)</pre><b>In a Jupyter environment, please rerun this cell to show the HTML representation or trust the notebook. <br />On GitHub, the HTML representation is unable to render, please try loading this page with nbviewer.org.</b></div><div class=\"sk-container\" hidden><div class=\"sk-item sk-dashed-wrapped\"><div class=\"sk-label-container\"><div class=\"sk-label sk-toggleable\"><input class=\"sk-toggleable__control sk-hidden--visually\" id=\"sk-estimator-id-35\" type=\"checkbox\" ><label for=\"sk-estimator-id-35\" class=\"sk-toggleable__label sk-toggleable__label-arrow\">GridSearchCV</label><div class=\"sk-toggleable__content\"><pre>GridSearchCV(cv=5, estimator=KNeighborsClassifier(),\n",
       "             param_grid=[{&#x27;n_neighbors&#x27;: [1, 2, 3, 5, 6]},\n",
       "                         {&#x27;leaf_size&#x27;: [2, 4, 5, 6, 2]}],\n",
       "             verbose=10)</pre></div></div></div><div class=\"sk-parallel\"><div class=\"sk-parallel-item\"><div class=\"sk-item\"><div class=\"sk-label-container\"><div class=\"sk-label sk-toggleable\"><input class=\"sk-toggleable__control sk-hidden--visually\" id=\"sk-estimator-id-36\" type=\"checkbox\" ><label for=\"sk-estimator-id-36\" class=\"sk-toggleable__label sk-toggleable__label-arrow\">estimator: KNeighborsClassifier</label><div class=\"sk-toggleable__content\"><pre>KNeighborsClassifier()</pre></div></div></div><div class=\"sk-serial\"><div class=\"sk-item\"><div class=\"sk-estimator sk-toggleable\"><input class=\"sk-toggleable__control sk-hidden--visually\" id=\"sk-estimator-id-37\" type=\"checkbox\" ><label for=\"sk-estimator-id-37\" class=\"sk-toggleable__label sk-toggleable__label-arrow\">KNeighborsClassifier</label><div class=\"sk-toggleable__content\"><pre>KNeighborsClassifier()</pre></div></div></div></div></div></div></div></div></div></div>"
      ],
      "text/plain": [
       "GridSearchCV(cv=5, estimator=KNeighborsClassifier(),\n",
       "             param_grid=[{'n_neighbors': [1, 2, 3, 5, 6]},\n",
       "                         {'leaf_size': [2, 4, 5, 6, 2]}],\n",
       "             verbose=10)"
      ]
     },
     "execution_count": 101,
     "metadata": {},
     "output_type": "execute_result"
    }
   ],
   "source": [
    "#Optimisation du modele K-NN\n",
    "from sklearn.model_selection import GridSearchCV\n",
    "#parametres du grid\n",
    "params =[\n",
    "    {'n_neighbors':[1,2,3,5,6]},\n",
    "    {'leaf_size':[2,4,5,6,2]}\n",
    "]\n",
    "#Initialisation du modèles\n",
    "model=KNeighborsClassifier()\n",
    "best_model = GridSearchCV(model, params,cv=5, verbose=10)\n",
    "best_model.fit(X_train,Y_train)"
   ]
  },
  {
   "cell_type": "code",
   "execution_count": 102,
   "id": "72d54cc7",
   "metadata": {},
   "outputs": [
    {
     "name": "stdout",
     "output_type": "stream",
     "text": [
      "le best paramètre du modèle K-NN est {'n_neighbors': 5}\n",
      "le best score du modèle K-NN est 0.7029411764705882\n"
     ]
    }
   ],
   "source": [
    "print('le best paramètre du modèle K-NN est', best_model.best_params_)\n",
    "print('le best score du modèle K-NN est',best_model.best_score_)"
   ]
  },
  {
   "cell_type": "markdown",
   "id": "f95a4d4c",
   "metadata": {},
   "source": [
    "**Modèle LOGISTIC REGRESSION**"
   ]
  },
  {
   "cell_type": "code",
   "execution_count": 103,
   "id": "f4c04a9f",
   "metadata": {},
   "outputs": [
    {
     "name": "stdout",
     "output_type": "stream",
     "text": [
      "accuracy du modele de Logistic Regression est  0.6285714285714286\n"
     ]
    }
   ],
   "source": [
    "#Application du modèle Logistic Regression\n",
    "from sklearn.linear_model import LogisticRegression\n",
    "lr = LogisticRegression()\n",
    "lr.fit(X_train,Y_train)\n",
    "pred_lr= lr.predict(X_test)\n",
    "lr_acc =accuracy_score(Y_test,pred_lr)\n",
    "print('accuracy du modele de Logistic Regression est ',lr_acc)"
   ]
  },
  {
   "cell_type": "code",
   "execution_count": 104,
   "id": "53f6f06e",
   "metadata": {},
   "outputs": [
    {
     "name": "stdout",
     "output_type": "stream",
     "text": [
      "              precision    recall  f1-score   support\n",
      "\n",
      "           0       0.59      0.62      0.61        16\n",
      "           1       0.67      0.63      0.65        19\n",
      "\n",
      "    accuracy                           0.63        35\n",
      "   macro avg       0.63      0.63      0.63        35\n",
      "weighted avg       0.63      0.63      0.63        35\n",
      "\n"
     ]
    }
   ],
   "source": [
    "#Visionnage des autres métriques d'évaluation\n",
    "from sklearn.metrics import classification_report\n",
    "print(classification_report(Y_test,pred_lr))"
   ]
  },
  {
   "cell_type": "code",
   "execution_count": 105,
   "id": "fc6d41db",
   "metadata": {},
   "outputs": [
    {
     "name": "stdout",
     "output_type": "stream",
     "text": [
      "Fitting 5 folds for each of 6 candidates, totalling 30 fits\n",
      "[CV 1/5; 1/6] START max_iter=1..................................................\n",
      "[CV 1/5; 1/6] END ...................max_iter=1;, score=0.412 total time=   0.0s\n",
      "[CV 2/5; 1/6] START max_iter=1..................................................\n",
      "[CV 2/5; 1/6] END ...................max_iter=1;, score=0.750 total time=   0.0s\n",
      "[CV 3/5; 1/6] START max_iter=1..................................................\n",
      "[CV 3/5; 1/6] END ...................max_iter=1;, score=0.625 total time=   0.0s\n",
      "[CV 4/5; 1/6] START max_iter=1..................................................\n",
      "[CV 4/5; 1/6] END ...................max_iter=1;, score=0.438 total time=   0.0s\n",
      "[CV 5/5; 1/6] START max_iter=1..................................................\n",
      "[CV 5/5; 1/6] END ...................max_iter=1;, score=0.812 total time=   0.0s\n",
      "[CV 1/5; 2/6] START max_iter=12.................................................\n",
      "[CV 1/5; 2/6] END ..................max_iter=12;, score=0.647 total time=   0.0s\n",
      "[CV 2/5; 2/6] START max_iter=12.................................................\n",
      "[CV 2/5; 2/6] END ..................max_iter=12;, score=0.688 total time=   0.0s\n",
      "[CV 3/5; 2/6] START max_iter=12.................................................\n",
      "[CV 3/5; 2/6] END ..................max_iter=12;, score=0.688 total time=   0.0s\n",
      "[CV 4/5; 2/6] START max_iter=12.................................................\n",
      "[CV 4/5; 2/6] END ..................max_iter=12;, score=0.438 total time=   0.0s\n",
      "[CV 5/5; 2/6] START max_iter=12.................................................\n",
      "[CV 5/5; 2/6] END ..................max_iter=12;, score=0.812 total time=   0.0s\n",
      "[CV 1/5; 3/6] START max_iter=3..................................................\n",
      "[CV 1/5; 3/6] END ...................max_iter=3;, score=0.647 total time=   0.0s\n",
      "[CV 2/5; 3/6] START max_iter=3..................................................\n",
      "[CV 2/5; 3/6] END ...................max_iter=3;, score=0.688 total time=   0.0s\n",
      "[CV 3/5; 3/6] START max_iter=3..................................................\n",
      "[CV 3/5; 3/6] END ...................max_iter=3;, score=0.688 total time=   0.0s\n",
      "[CV 4/5; 3/6] START max_iter=3..................................................\n",
      "[CV 4/5; 3/6] END ...................max_iter=3;, score=0.438 total time=   0.0s\n",
      "[CV 5/5; 3/6] START max_iter=3..................................................\n",
      "[CV 5/5; 3/6] END ...................max_iter=3;, score=0.875 total time=   0.0s\n",
      "[CV 1/5; 4/6] START max_iter=5..................................................\n",
      "[CV 1/5; 4/6] END ...................max_iter=5;, score=0.647 total time=   0.0s\n",
      "[CV 2/5; 4/6] START max_iter=5..................................................\n",
      "[CV 2/5; 4/6] END ...................max_iter=5;, score=0.688 total time=   0.0s\n",
      "[CV 3/5; 4/6] START max_iter=5..................................................\n",
      "[CV 3/5; 4/6] END ...................max_iter=5;, score=0.688 total time=   0.0s\n",
      "[CV 4/5; 4/6] START max_iter=5..................................................\n",
      "[CV 4/5; 4/6] END ...................max_iter=5;, score=0.438 total time=   0.0s\n",
      "[CV 5/5; 4/6] START max_iter=5..................................................\n",
      "[CV 5/5; 4/6] END ...................max_iter=5;, score=0.812 total time=   0.0s\n",
      "[CV 1/5; 5/6] START max_iter=100................................................\n",
      "[CV 1/5; 5/6] END .................max_iter=100;, score=0.647 total time=   0.0s\n",
      "[CV 2/5; 5/6] START max_iter=100................................................\n",
      "[CV 2/5; 5/6] END .................max_iter=100;, score=0.688 total time=   0.0s\n",
      "[CV 3/5; 5/6] START max_iter=100................................................\n",
      "[CV 3/5; 5/6] END .................max_iter=100;, score=0.688 total time=   0.0s\n",
      "[CV 4/5; 5/6] START max_iter=100................................................\n",
      "[CV 4/5; 5/6] END .................max_iter=100;, score=0.438 total time=   0.0s\n",
      "[CV 5/5; 5/6] START max_iter=100................................................\n",
      "[CV 5/5; 5/6] END .................max_iter=100;, score=0.812 total time=   0.0s\n",
      "[CV 1/5; 6/6] START n_jobs=None.................................................\n",
      "[CV 1/5; 6/6] END ....................n_jobs=None;, score=nan total time=   0.0s\n",
      "[CV 2/5; 6/6] START n_jobs=None.................................................\n",
      "[CV 2/5; 6/6] END ....................n_jobs=None;, score=nan total time=   0.0s\n",
      "[CV 3/5; 6/6] START n_jobs=None.................................................\n",
      "[CV 3/5; 6/6] END ....................n_jobs=None;, score=nan total time=   0.0s\n",
      "[CV 4/5; 6/6] START n_jobs=None.................................................\n",
      "[CV 4/5; 6/6] END ....................n_jobs=None;, score=nan total time=   0.0s\n",
      "[CV 5/5; 6/6] START n_jobs=None.................................................\n",
      "[CV 5/5; 6/6] END ....................n_jobs=None;, score=nan total time=   0.0s\n"
     ]
    },
    {
     "name": "stderr",
     "output_type": "stream",
     "text": [
      "/Library/Frameworks/Python.framework/Versions/3.10/lib/python3.10/site-packages/sklearn/linear_model/_logistic.py:444: ConvergenceWarning: lbfgs failed to converge (status=1):\n",
      "STOP: TOTAL NO. of ITERATIONS REACHED LIMIT.\n",
      "\n",
      "Increase the number of iterations (max_iter) or scale the data as shown in:\n",
      "    https://scikit-learn.org/stable/modules/preprocessing.html\n",
      "Please also refer to the documentation for alternative solver options:\n",
      "    https://scikit-learn.org/stable/modules/linear_model.html#logistic-regression\n",
      "  n_iter_i = _check_optimize_result(\n",
      "/Library/Frameworks/Python.framework/Versions/3.10/lib/python3.10/site-packages/sklearn/linear_model/_logistic.py:444: ConvergenceWarning: lbfgs failed to converge (status=1):\n",
      "STOP: TOTAL NO. of ITERATIONS REACHED LIMIT.\n",
      "\n",
      "Increase the number of iterations (max_iter) or scale the data as shown in:\n",
      "    https://scikit-learn.org/stable/modules/preprocessing.html\n",
      "Please also refer to the documentation for alternative solver options:\n",
      "    https://scikit-learn.org/stable/modules/linear_model.html#logistic-regression\n",
      "  n_iter_i = _check_optimize_result(\n",
      "/Library/Frameworks/Python.framework/Versions/3.10/lib/python3.10/site-packages/sklearn/linear_model/_logistic.py:444: ConvergenceWarning: lbfgs failed to converge (status=1):\n",
      "STOP: TOTAL NO. of ITERATIONS REACHED LIMIT.\n",
      "\n",
      "Increase the number of iterations (max_iter) or scale the data as shown in:\n",
      "    https://scikit-learn.org/stable/modules/preprocessing.html\n",
      "Please also refer to the documentation for alternative solver options:\n",
      "    https://scikit-learn.org/stable/modules/linear_model.html#logistic-regression\n",
      "  n_iter_i = _check_optimize_result(\n",
      "/Library/Frameworks/Python.framework/Versions/3.10/lib/python3.10/site-packages/sklearn/linear_model/_logistic.py:444: ConvergenceWarning: lbfgs failed to converge (status=1):\n",
      "STOP: TOTAL NO. of ITERATIONS REACHED LIMIT.\n",
      "\n",
      "Increase the number of iterations (max_iter) or scale the data as shown in:\n",
      "    https://scikit-learn.org/stable/modules/preprocessing.html\n",
      "Please also refer to the documentation for alternative solver options:\n",
      "    https://scikit-learn.org/stable/modules/linear_model.html#logistic-regression\n",
      "  n_iter_i = _check_optimize_result(\n",
      "/Library/Frameworks/Python.framework/Versions/3.10/lib/python3.10/site-packages/sklearn/linear_model/_logistic.py:444: ConvergenceWarning: lbfgs failed to converge (status=1):\n",
      "STOP: TOTAL NO. of ITERATIONS REACHED LIMIT.\n",
      "\n",
      "Increase the number of iterations (max_iter) or scale the data as shown in:\n",
      "    https://scikit-learn.org/stable/modules/preprocessing.html\n",
      "Please also refer to the documentation for alternative solver options:\n",
      "    https://scikit-learn.org/stable/modules/linear_model.html#logistic-regression\n",
      "  n_iter_i = _check_optimize_result(\n",
      "/Library/Frameworks/Python.framework/Versions/3.10/lib/python3.10/site-packages/sklearn/linear_model/_logistic.py:444: ConvergenceWarning: lbfgs failed to converge (status=1):\n",
      "STOP: TOTAL NO. of ITERATIONS REACHED LIMIT.\n",
      "\n",
      "Increase the number of iterations (max_iter) or scale the data as shown in:\n",
      "    https://scikit-learn.org/stable/modules/preprocessing.html\n",
      "Please also refer to the documentation for alternative solver options:\n",
      "    https://scikit-learn.org/stable/modules/linear_model.html#logistic-regression\n",
      "  n_iter_i = _check_optimize_result(\n",
      "/Library/Frameworks/Python.framework/Versions/3.10/lib/python3.10/site-packages/sklearn/linear_model/_logistic.py:444: ConvergenceWarning: lbfgs failed to converge (status=1):\n",
      "STOP: TOTAL NO. of ITERATIONS REACHED LIMIT.\n",
      "\n",
      "Increase the number of iterations (max_iter) or scale the data as shown in:\n",
      "    https://scikit-learn.org/stable/modules/preprocessing.html\n",
      "Please also refer to the documentation for alternative solver options:\n",
      "    https://scikit-learn.org/stable/modules/linear_model.html#logistic-regression\n",
      "  n_iter_i = _check_optimize_result(\n",
      "/Library/Frameworks/Python.framework/Versions/3.10/lib/python3.10/site-packages/sklearn/linear_model/_logistic.py:444: ConvergenceWarning: lbfgs failed to converge (status=1):\n",
      "STOP: TOTAL NO. of ITERATIONS REACHED LIMIT.\n",
      "\n",
      "Increase the number of iterations (max_iter) or scale the data as shown in:\n",
      "    https://scikit-learn.org/stable/modules/preprocessing.html\n",
      "Please also refer to the documentation for alternative solver options:\n",
      "    https://scikit-learn.org/stable/modules/linear_model.html#logistic-regression\n",
      "  n_iter_i = _check_optimize_result(\n",
      "/Library/Frameworks/Python.framework/Versions/3.10/lib/python3.10/site-packages/sklearn/linear_model/_logistic.py:444: ConvergenceWarning: lbfgs failed to converge (status=1):\n",
      "STOP: TOTAL NO. of ITERATIONS REACHED LIMIT.\n",
      "\n",
      "Increase the number of iterations (max_iter) or scale the data as shown in:\n",
      "    https://scikit-learn.org/stable/modules/preprocessing.html\n",
      "Please also refer to the documentation for alternative solver options:\n",
      "    https://scikit-learn.org/stable/modules/linear_model.html#logistic-regression\n",
      "  n_iter_i = _check_optimize_result(\n",
      "/Library/Frameworks/Python.framework/Versions/3.10/lib/python3.10/site-packages/sklearn/linear_model/_logistic.py:444: ConvergenceWarning: lbfgs failed to converge (status=1):\n",
      "STOP: TOTAL NO. of ITERATIONS REACHED LIMIT.\n",
      "\n",
      "Increase the number of iterations (max_iter) or scale the data as shown in:\n",
      "    https://scikit-learn.org/stable/modules/preprocessing.html\n",
      "Please also refer to the documentation for alternative solver options:\n",
      "    https://scikit-learn.org/stable/modules/linear_model.html#logistic-regression\n",
      "  n_iter_i = _check_optimize_result(\n",
      "/Library/Frameworks/Python.framework/Versions/3.10/lib/python3.10/site-packages/sklearn/linear_model/_logistic.py:444: ConvergenceWarning: lbfgs failed to converge (status=1):\n",
      "STOP: TOTAL NO. of ITERATIONS REACHED LIMIT.\n",
      "\n",
      "Increase the number of iterations (max_iter) or scale the data as shown in:\n",
      "    https://scikit-learn.org/stable/modules/preprocessing.html\n",
      "Please also refer to the documentation for alternative solver options:\n",
      "    https://scikit-learn.org/stable/modules/linear_model.html#logistic-regression\n",
      "  n_iter_i = _check_optimize_result(\n",
      "/Library/Frameworks/Python.framework/Versions/3.10/lib/python3.10/site-packages/sklearn/linear_model/_logistic.py:444: ConvergenceWarning: lbfgs failed to converge (status=1):\n",
      "STOP: TOTAL NO. of ITERATIONS REACHED LIMIT.\n",
      "\n",
      "Increase the number of iterations (max_iter) or scale the data as shown in:\n",
      "    https://scikit-learn.org/stable/modules/preprocessing.html\n",
      "Please also refer to the documentation for alternative solver options:\n",
      "    https://scikit-learn.org/stable/modules/linear_model.html#logistic-regression\n",
      "  n_iter_i = _check_optimize_result(\n",
      "/Library/Frameworks/Python.framework/Versions/3.10/lib/python3.10/site-packages/sklearn/linear_model/_logistic.py:444: ConvergenceWarning: lbfgs failed to converge (status=1):\n",
      "STOP: TOTAL NO. of ITERATIONS REACHED LIMIT.\n",
      "\n",
      "Increase the number of iterations (max_iter) or scale the data as shown in:\n",
      "    https://scikit-learn.org/stable/modules/preprocessing.html\n",
      "Please also refer to the documentation for alternative solver options:\n",
      "    https://scikit-learn.org/stable/modules/linear_model.html#logistic-regression\n",
      "  n_iter_i = _check_optimize_result(\n",
      "/Library/Frameworks/Python.framework/Versions/3.10/lib/python3.10/site-packages/sklearn/linear_model/_logistic.py:444: ConvergenceWarning: lbfgs failed to converge (status=1):\n",
      "STOP: TOTAL NO. of ITERATIONS REACHED LIMIT.\n",
      "\n",
      "Increase the number of iterations (max_iter) or scale the data as shown in:\n",
      "    https://scikit-learn.org/stable/modules/preprocessing.html\n",
      "Please also refer to the documentation for alternative solver options:\n",
      "    https://scikit-learn.org/stable/modules/linear_model.html#logistic-regression\n",
      "  n_iter_i = _check_optimize_result(\n",
      "/Library/Frameworks/Python.framework/Versions/3.10/lib/python3.10/site-packages/sklearn/linear_model/_logistic.py:444: ConvergenceWarning: lbfgs failed to converge (status=1):\n",
      "STOP: TOTAL NO. of ITERATIONS REACHED LIMIT.\n",
      "\n",
      "Increase the number of iterations (max_iter) or scale the data as shown in:\n",
      "    https://scikit-learn.org/stable/modules/preprocessing.html\n",
      "Please also refer to the documentation for alternative solver options:\n",
      "    https://scikit-learn.org/stable/modules/linear_model.html#logistic-regression\n",
      "  n_iter_i = _check_optimize_result(\n",
      "/Library/Frameworks/Python.framework/Versions/3.10/lib/python3.10/site-packages/sklearn/linear_model/_logistic.py:444: ConvergenceWarning: lbfgs failed to converge (status=1):\n",
      "STOP: TOTAL NO. of ITERATIONS REACHED LIMIT.\n",
      "\n",
      "Increase the number of iterations (max_iter) or scale the data as shown in:\n",
      "    https://scikit-learn.org/stable/modules/preprocessing.html\n",
      "Please also refer to the documentation for alternative solver options:\n",
      "    https://scikit-learn.org/stable/modules/linear_model.html#logistic-regression\n",
      "  n_iter_i = _check_optimize_result(\n",
      "/Library/Frameworks/Python.framework/Versions/3.10/lib/python3.10/site-packages/sklearn/linear_model/_logistic.py:444: ConvergenceWarning: lbfgs failed to converge (status=1):\n",
      "STOP: TOTAL NO. of ITERATIONS REACHED LIMIT.\n",
      "\n",
      "Increase the number of iterations (max_iter) or scale the data as shown in:\n",
      "    https://scikit-learn.org/stable/modules/preprocessing.html\n",
      "Please also refer to the documentation for alternative solver options:\n",
      "    https://scikit-learn.org/stable/modules/linear_model.html#logistic-regression\n",
      "  n_iter_i = _check_optimize_result(\n",
      "/Library/Frameworks/Python.framework/Versions/3.10/lib/python3.10/site-packages/sklearn/linear_model/_logistic.py:444: ConvergenceWarning: lbfgs failed to converge (status=1):\n",
      "STOP: TOTAL NO. of ITERATIONS REACHED LIMIT.\n",
      "\n",
      "Increase the number of iterations (max_iter) or scale the data as shown in:\n",
      "    https://scikit-learn.org/stable/modules/preprocessing.html\n",
      "Please also refer to the documentation for alternative solver options:\n",
      "    https://scikit-learn.org/stable/modules/linear_model.html#logistic-regression\n",
      "  n_iter_i = _check_optimize_result(\n",
      "/Library/Frameworks/Python.framework/Versions/3.10/lib/python3.10/site-packages/sklearn/linear_model/_logistic.py:444: ConvergenceWarning: lbfgs failed to converge (status=1):\n",
      "STOP: TOTAL NO. of ITERATIONS REACHED LIMIT.\n",
      "\n",
      "Increase the number of iterations (max_iter) or scale the data as shown in:\n",
      "    https://scikit-learn.org/stable/modules/preprocessing.html\n",
      "Please also refer to the documentation for alternative solver options:\n",
      "    https://scikit-learn.org/stable/modules/linear_model.html#logistic-regression\n",
      "  n_iter_i = _check_optimize_result(\n",
      "/Library/Frameworks/Python.framework/Versions/3.10/lib/python3.10/site-packages/sklearn/linear_model/_logistic.py:444: ConvergenceWarning: lbfgs failed to converge (status=1):\n",
      "STOP: TOTAL NO. of ITERATIONS REACHED LIMIT.\n",
      "\n",
      "Increase the number of iterations (max_iter) or scale the data as shown in:\n",
      "    https://scikit-learn.org/stable/modules/preprocessing.html\n",
      "Please also refer to the documentation for alternative solver options:\n",
      "    https://scikit-learn.org/stable/modules/linear_model.html#logistic-regression\n",
      "  n_iter_i = _check_optimize_result(\n",
      "/Library/Frameworks/Python.framework/Versions/3.10/lib/python3.10/site-packages/sklearn/model_selection/_validation.py:378: FitFailedWarning: \n",
      "5 fits failed out of a total of 30.\n",
      "The score on these train-test partitions for these parameters will be set to nan.\n",
      "If these failures are not expected, you can try to debug them by setting error_score='raise'.\n",
      "\n",
      "Below are more details about the failures:\n",
      "--------------------------------------------------------------------------------\n",
      "5 fits failed with the following error:\n",
      "Traceback (most recent call last):\n",
      "  File \"/Library/Frameworks/Python.framework/Versions/3.10/lib/python3.10/site-packages/sklearn/model_selection/_validation.py\", line 686, in _fit_and_score\n",
      "    estimator.fit(X_train, y_train, **fit_params)\n",
      "  File \"/Library/Frameworks/Python.framework/Versions/3.10/lib/python3.10/site-packages/sklearn/linear_model/_logistic.py\", line 1225, in fit\n",
      "    and effective_n_jobs(self.n_jobs) == 1\n",
      "  File \"/Library/Frameworks/Python.framework/Versions/3.10/lib/python3.10/site-packages/joblib/parallel.py\", line 410, in effective_n_jobs\n",
      "    return backend.effective_n_jobs(n_jobs=n_jobs)\n",
      "  File \"/Library/Frameworks/Python.framework/Versions/3.10/lib/python3.10/site-packages/joblib/_parallel_backends.py\", line 525, in effective_n_jobs\n",
      "    elif n_jobs < 0:\n",
      "TypeError: '<' not supported between instances of 'str' and 'int'\n",
      "\n",
      "  warnings.warn(some_fits_failed_message, FitFailedWarning)\n",
      "/Library/Frameworks/Python.framework/Versions/3.10/lib/python3.10/site-packages/sklearn/model_selection/_search.py:953: UserWarning: One or more of the test scores are non-finite: [0.60735294 0.65441176 0.66691176 0.65441176 0.65441176        nan]\n",
      "  warnings.warn(\n",
      "/Library/Frameworks/Python.framework/Versions/3.10/lib/python3.10/site-packages/sklearn/linear_model/_logistic.py:444: ConvergenceWarning: lbfgs failed to converge (status=1):\n",
      "STOP: TOTAL NO. of ITERATIONS REACHED LIMIT.\n",
      "\n",
      "Increase the number of iterations (max_iter) or scale the data as shown in:\n",
      "    https://scikit-learn.org/stable/modules/preprocessing.html\n",
      "Please also refer to the documentation for alternative solver options:\n",
      "    https://scikit-learn.org/stable/modules/linear_model.html#logistic-regression\n",
      "  n_iter_i = _check_optimize_result(\n"
     ]
    },
    {
     "data": {
      "text/html": [
       "<style>#sk-container-id-14 {color: black;background-color: white;}#sk-container-id-14 pre{padding: 0;}#sk-container-id-14 div.sk-toggleable {background-color: white;}#sk-container-id-14 label.sk-toggleable__label {cursor: pointer;display: block;width: 100%;margin-bottom: 0;padding: 0.3em;box-sizing: border-box;text-align: center;}#sk-container-id-14 label.sk-toggleable__label-arrow:before {content: \"▸\";float: left;margin-right: 0.25em;color: #696969;}#sk-container-id-14 label.sk-toggleable__label-arrow:hover:before {color: black;}#sk-container-id-14 div.sk-estimator:hover label.sk-toggleable__label-arrow:before {color: black;}#sk-container-id-14 div.sk-toggleable__content {max-height: 0;max-width: 0;overflow: hidden;text-align: left;background-color: #f0f8ff;}#sk-container-id-14 div.sk-toggleable__content pre {margin: 0.2em;color: black;border-radius: 0.25em;background-color: #f0f8ff;}#sk-container-id-14 input.sk-toggleable__control:checked~div.sk-toggleable__content {max-height: 200px;max-width: 100%;overflow: auto;}#sk-container-id-14 input.sk-toggleable__control:checked~label.sk-toggleable__label-arrow:before {content: \"▾\";}#sk-container-id-14 div.sk-estimator input.sk-toggleable__control:checked~label.sk-toggleable__label {background-color: #d4ebff;}#sk-container-id-14 div.sk-label input.sk-toggleable__control:checked~label.sk-toggleable__label {background-color: #d4ebff;}#sk-container-id-14 input.sk-hidden--visually {border: 0;clip: rect(1px 1px 1px 1px);clip: rect(1px, 1px, 1px, 1px);height: 1px;margin: -1px;overflow: hidden;padding: 0;position: absolute;width: 1px;}#sk-container-id-14 div.sk-estimator {font-family: monospace;background-color: #f0f8ff;border: 1px dotted black;border-radius: 0.25em;box-sizing: border-box;margin-bottom: 0.5em;}#sk-container-id-14 div.sk-estimator:hover {background-color: #d4ebff;}#sk-container-id-14 div.sk-parallel-item::after {content: \"\";width: 100%;border-bottom: 1px solid gray;flex-grow: 1;}#sk-container-id-14 div.sk-label:hover label.sk-toggleable__label {background-color: #d4ebff;}#sk-container-id-14 div.sk-serial::before {content: \"\";position: absolute;border-left: 1px solid gray;box-sizing: border-box;top: 0;bottom: 0;left: 50%;z-index: 0;}#sk-container-id-14 div.sk-serial {display: flex;flex-direction: column;align-items: center;background-color: white;padding-right: 0.2em;padding-left: 0.2em;position: relative;}#sk-container-id-14 div.sk-item {position: relative;z-index: 1;}#sk-container-id-14 div.sk-parallel {display: flex;align-items: stretch;justify-content: center;background-color: white;position: relative;}#sk-container-id-14 div.sk-item::before, #sk-container-id-14 div.sk-parallel-item::before {content: \"\";position: absolute;border-left: 1px solid gray;box-sizing: border-box;top: 0;bottom: 0;left: 50%;z-index: -1;}#sk-container-id-14 div.sk-parallel-item {display: flex;flex-direction: column;z-index: 1;position: relative;background-color: white;}#sk-container-id-14 div.sk-parallel-item:first-child::after {align-self: flex-end;width: 50%;}#sk-container-id-14 div.sk-parallel-item:last-child::after {align-self: flex-start;width: 50%;}#sk-container-id-14 div.sk-parallel-item:only-child::after {width: 0;}#sk-container-id-14 div.sk-dashed-wrapped {border: 1px dashed gray;margin: 0 0.4em 0.5em 0.4em;box-sizing: border-box;padding-bottom: 0.4em;background-color: white;}#sk-container-id-14 div.sk-label label {font-family: monospace;font-weight: bold;display: inline-block;line-height: 1.2em;}#sk-container-id-14 div.sk-label-container {text-align: center;}#sk-container-id-14 div.sk-container {/* jupyter's `normalize.less` sets `[hidden] { display: none; }` but bootstrap.min.css set `[hidden] { display: none !important; }` so we also need the `!important` here to be able to override the default hidden behavior on the sphinx rendered scikit-learn.org. See: https://github.com/scikit-learn/scikit-learn/issues/21755 */display: inline-block !important;position: relative;}#sk-container-id-14 div.sk-text-repr-fallback {display: none;}</style><div id=\"sk-container-id-14\" class=\"sk-top-container\"><div class=\"sk-text-repr-fallback\"><pre>GridSearchCV(cv=5, estimator=LogisticRegression(),\n",
       "             param_grid=[{&#x27;max_iter&#x27;: [1, 12, 3, 5, 100]},\n",
       "                         {&#x27;n_jobs&#x27;: [&#x27;None&#x27;]}],\n",
       "             verbose=10)</pre><b>In a Jupyter environment, please rerun this cell to show the HTML representation or trust the notebook. <br />On GitHub, the HTML representation is unable to render, please try loading this page with nbviewer.org.</b></div><div class=\"sk-container\" hidden><div class=\"sk-item sk-dashed-wrapped\"><div class=\"sk-label-container\"><div class=\"sk-label sk-toggleable\"><input class=\"sk-toggleable__control sk-hidden--visually\" id=\"sk-estimator-id-38\" type=\"checkbox\" ><label for=\"sk-estimator-id-38\" class=\"sk-toggleable__label sk-toggleable__label-arrow\">GridSearchCV</label><div class=\"sk-toggleable__content\"><pre>GridSearchCV(cv=5, estimator=LogisticRegression(),\n",
       "             param_grid=[{&#x27;max_iter&#x27;: [1, 12, 3, 5, 100]},\n",
       "                         {&#x27;n_jobs&#x27;: [&#x27;None&#x27;]}],\n",
       "             verbose=10)</pre></div></div></div><div class=\"sk-parallel\"><div class=\"sk-parallel-item\"><div class=\"sk-item\"><div class=\"sk-label-container\"><div class=\"sk-label sk-toggleable\"><input class=\"sk-toggleable__control sk-hidden--visually\" id=\"sk-estimator-id-39\" type=\"checkbox\" ><label for=\"sk-estimator-id-39\" class=\"sk-toggleable__label sk-toggleable__label-arrow\">estimator: LogisticRegression</label><div class=\"sk-toggleable__content\"><pre>LogisticRegression()</pre></div></div></div><div class=\"sk-serial\"><div class=\"sk-item\"><div class=\"sk-estimator sk-toggleable\"><input class=\"sk-toggleable__control sk-hidden--visually\" id=\"sk-estimator-id-40\" type=\"checkbox\" ><label for=\"sk-estimator-id-40\" class=\"sk-toggleable__label sk-toggleable__label-arrow\">LogisticRegression</label><div class=\"sk-toggleable__content\"><pre>LogisticRegression()</pre></div></div></div></div></div></div></div></div></div></div>"
      ],
      "text/plain": [
       "GridSearchCV(cv=5, estimator=LogisticRegression(),\n",
       "             param_grid=[{'max_iter': [1, 12, 3, 5, 100]},\n",
       "                         {'n_jobs': ['None']}],\n",
       "             verbose=10)"
      ]
     },
     "execution_count": 105,
     "metadata": {},
     "output_type": "execute_result"
    }
   ],
   "source": [
    "#Optimisation du modèle de Logistic Regression\n",
    "from sklearn.model_selection import GridSearchCV\n",
    "#parametres du grid\n",
    "params =[\n",
    "    {'max_iter':[1,12,3,5,100]},\n",
    "    {'n_jobs':['None']}\n",
    "]\n",
    "#Initialisation du modèles\n",
    "lr = LogisticRegression()\n",
    "best_model = GridSearchCV(lr, params,cv=5, verbose=10)\n",
    "best_model.fit(X_train,Y_train)"
   ]
  },
  {
   "cell_type": "code",
   "execution_count": 107,
   "id": "dafbfb1b",
   "metadata": {},
   "outputs": [
    {
     "name": "stdout",
     "output_type": "stream",
     "text": [
      "le best paramètre du modèle Logistic Regression est {'max_iter': 3}\n",
      "le best score du modèle Logistic Regression est 0.6669117647058823\n"
     ]
    }
   ],
   "source": [
    "print('le best paramètre du modèle Logistic Regression est', best_model.best_params_)\n",
    "print('le best score du modèle Logistic Regression est',best_model.best_score_)"
   ]
  },
  {
   "cell_type": "markdown",
   "id": "94d3284c",
   "metadata": {},
   "source": [
    "**Modèle Naive Bayesien**"
   ]
  },
  {
   "cell_type": "code",
   "execution_count": 117,
   "id": "ba969d8c",
   "metadata": {},
   "outputs": [
    {
     "name": "stdout",
     "output_type": "stream",
     "text": [
      "accuracy du modele de naive bayes est 0.6\n"
     ]
    }
   ],
   "source": [
    "#Application du modèle Naives Bayesien\n",
    "from sklearn.naive_bayes import GaussianNB\n",
    "gnb = GaussianNB()\n",
    "gnb.fit(X_train,Y_train)\n",
    "pred_gnb= gnb.predict(X_test)\n",
    "gnb_acc =accuracy_score(Y_test,pred_gnb)\n",
    "print('accuracy du modele de naive bayes est',gnb_acc)"
   ]
  },
  {
   "cell_type": "code",
   "execution_count": 118,
   "id": "9b324799",
   "metadata": {},
   "outputs": [
    {
     "name": "stdout",
     "output_type": "stream",
     "text": [
      "              precision    recall  f1-score   support\n",
      "\n",
      "           0       0.54      0.94      0.68        16\n",
      "           1       0.86      0.32      0.46        19\n",
      "\n",
      "    accuracy                           0.60        35\n",
      "   macro avg       0.70      0.63      0.57        35\n",
      "weighted avg       0.71      0.60      0.56        35\n",
      "\n"
     ]
    }
   ],
   "source": [
    "#Visionnage des autres métriques d'évaluation\n",
    "from sklearn.metrics import classification_report\n",
    "print(classification_report(Y_test,pred_gnb))"
   ]
  },
  {
   "cell_type": "code",
   "execution_count": 119,
   "id": "8c7b6f3a",
   "metadata": {},
   "outputs": [
    {
     "name": "stdout",
     "output_type": "stream",
     "text": [
      "Fitting 5 folds for each of 4 candidates, totalling 20 fits\n",
      "[CV 1/5; 1/4] START var_smoothing=8.2e-17.......................................\n",
      "[CV 1/5; 1/4] END ........var_smoothing=8.2e-17;, score=0.471 total time=   0.0s\n",
      "[CV 2/5; 1/4] START var_smoothing=8.2e-17.......................................\n",
      "[CV 2/5; 1/4] END ........var_smoothing=8.2e-17;, score=0.688 total time=   0.0s\n",
      "[CV 3/5; 1/4] START var_smoothing=8.2e-17.......................................\n",
      "[CV 3/5; 1/4] END ........var_smoothing=8.2e-17;, score=0.688 total time=   0.0s\n",
      "[CV 4/5; 1/4] START var_smoothing=8.2e-17.......................................\n",
      "[CV 4/5; 1/4] END ........var_smoothing=8.2e-17;, score=0.688 total time=   0.0s\n",
      "[CV 5/5; 1/4] START var_smoothing=8.2e-17.......................................\n",
      "[CV 5/5; 1/4] END ........var_smoothing=8.2e-17;, score=0.438 total time=   0.0s\n",
      "[CV 1/5; 2/4] START var_smoothing=1.5e-17.......................................\n",
      "[CV 1/5; 2/4] END ........var_smoothing=1.5e-17;, score=0.471 total time=   0.0s\n",
      "[CV 2/5; 2/4] START var_smoothing=1.5e-17.......................................\n",
      "[CV 2/5; 2/4] END ........var_smoothing=1.5e-17;, score=0.688 total time=   0.0s\n",
      "[CV 3/5; 2/4] START var_smoothing=1.5e-17.......................................\n",
      "[CV 3/5; 2/4] END ........var_smoothing=1.5e-17;, score=0.688 total time=   0.0s\n",
      "[CV 4/5; 2/4] START var_smoothing=1.5e-17.......................................\n",
      "[CV 4/5; 2/4] END ........var_smoothing=1.5e-17;, score=0.688 total time=   0.0s\n",
      "[CV 5/5; 2/4] START var_smoothing=1.5e-17.......................................\n",
      "[CV 5/5; 2/4] END ........var_smoothing=1.5e-17;, score=0.438 total time=   0.0s\n",
      "[CV 1/5; 3/4] START var_smoothing=1.3e-17.......................................\n",
      "[CV 1/5; 3/4] END ........var_smoothing=1.3e-17;, score=0.471 total time=   0.0s\n",
      "[CV 2/5; 3/4] START var_smoothing=1.3e-17.......................................\n",
      "[CV 2/5; 3/4] END ........var_smoothing=1.3e-17;, score=0.688 total time=   0.0s\n",
      "[CV 3/5; 3/4] START var_smoothing=1.3e-17.......................................\n",
      "[CV 3/5; 3/4] END ........var_smoothing=1.3e-17;, score=0.688 total time=   0.0s\n",
      "[CV 4/5; 3/4] START var_smoothing=1.3e-17.......................................\n",
      "[CV 4/5; 3/4] END ........var_smoothing=1.3e-17;, score=0.688 total time=   0.0s\n",
      "[CV 5/5; 3/4] START var_smoothing=1.3e-17.......................................\n",
      "[CV 5/5; 3/4] END ........var_smoothing=1.3e-17;, score=0.438 total time=   0.0s\n",
      "[CV 1/5; 4/4] START var_smoothing=1.2e-17.......................................\n",
      "[CV 1/5; 4/4] END ........var_smoothing=1.2e-17;, score=0.471 total time=   0.0s\n",
      "[CV 2/5; 4/4] START var_smoothing=1.2e-17.......................................\n",
      "[CV 2/5; 4/4] END ........var_smoothing=1.2e-17;, score=0.688 total time=   0.0s\n",
      "[CV 3/5; 4/4] START var_smoothing=1.2e-17.......................................\n",
      "[CV 3/5; 4/4] END ........var_smoothing=1.2e-17;, score=0.688 total time=   0.0s\n",
      "[CV 4/5; 4/4] START var_smoothing=1.2e-17.......................................\n",
      "[CV 4/5; 4/4] END ........var_smoothing=1.2e-17;, score=0.688 total time=   0.0s\n",
      "[CV 5/5; 4/4] START var_smoothing=1.2e-17.......................................\n",
      "[CV 5/5; 4/4] END ........var_smoothing=1.2e-17;, score=0.438 total time=   0.0s\n"
     ]
    },
    {
     "data": {
      "text/html": [
       "<style>#sk-container-id-17 {color: black;background-color: white;}#sk-container-id-17 pre{padding: 0;}#sk-container-id-17 div.sk-toggleable {background-color: white;}#sk-container-id-17 label.sk-toggleable__label {cursor: pointer;display: block;width: 100%;margin-bottom: 0;padding: 0.3em;box-sizing: border-box;text-align: center;}#sk-container-id-17 label.sk-toggleable__label-arrow:before {content: \"▸\";float: left;margin-right: 0.25em;color: #696969;}#sk-container-id-17 label.sk-toggleable__label-arrow:hover:before {color: black;}#sk-container-id-17 div.sk-estimator:hover label.sk-toggleable__label-arrow:before {color: black;}#sk-container-id-17 div.sk-toggleable__content {max-height: 0;max-width: 0;overflow: hidden;text-align: left;background-color: #f0f8ff;}#sk-container-id-17 div.sk-toggleable__content pre {margin: 0.2em;color: black;border-radius: 0.25em;background-color: #f0f8ff;}#sk-container-id-17 input.sk-toggleable__control:checked~div.sk-toggleable__content {max-height: 200px;max-width: 100%;overflow: auto;}#sk-container-id-17 input.sk-toggleable__control:checked~label.sk-toggleable__label-arrow:before {content: \"▾\";}#sk-container-id-17 div.sk-estimator input.sk-toggleable__control:checked~label.sk-toggleable__label {background-color: #d4ebff;}#sk-container-id-17 div.sk-label input.sk-toggleable__control:checked~label.sk-toggleable__label {background-color: #d4ebff;}#sk-container-id-17 input.sk-hidden--visually {border: 0;clip: rect(1px 1px 1px 1px);clip: rect(1px, 1px, 1px, 1px);height: 1px;margin: -1px;overflow: hidden;padding: 0;position: absolute;width: 1px;}#sk-container-id-17 div.sk-estimator {font-family: monospace;background-color: #f0f8ff;border: 1px dotted black;border-radius: 0.25em;box-sizing: border-box;margin-bottom: 0.5em;}#sk-container-id-17 div.sk-estimator:hover {background-color: #d4ebff;}#sk-container-id-17 div.sk-parallel-item::after {content: \"\";width: 100%;border-bottom: 1px solid gray;flex-grow: 1;}#sk-container-id-17 div.sk-label:hover label.sk-toggleable__label {background-color: #d4ebff;}#sk-container-id-17 div.sk-serial::before {content: \"\";position: absolute;border-left: 1px solid gray;box-sizing: border-box;top: 0;bottom: 0;left: 50%;z-index: 0;}#sk-container-id-17 div.sk-serial {display: flex;flex-direction: column;align-items: center;background-color: white;padding-right: 0.2em;padding-left: 0.2em;position: relative;}#sk-container-id-17 div.sk-item {position: relative;z-index: 1;}#sk-container-id-17 div.sk-parallel {display: flex;align-items: stretch;justify-content: center;background-color: white;position: relative;}#sk-container-id-17 div.sk-item::before, #sk-container-id-17 div.sk-parallel-item::before {content: \"\";position: absolute;border-left: 1px solid gray;box-sizing: border-box;top: 0;bottom: 0;left: 50%;z-index: -1;}#sk-container-id-17 div.sk-parallel-item {display: flex;flex-direction: column;z-index: 1;position: relative;background-color: white;}#sk-container-id-17 div.sk-parallel-item:first-child::after {align-self: flex-end;width: 50%;}#sk-container-id-17 div.sk-parallel-item:last-child::after {align-self: flex-start;width: 50%;}#sk-container-id-17 div.sk-parallel-item:only-child::after {width: 0;}#sk-container-id-17 div.sk-dashed-wrapped {border: 1px dashed gray;margin: 0 0.4em 0.5em 0.4em;box-sizing: border-box;padding-bottom: 0.4em;background-color: white;}#sk-container-id-17 div.sk-label label {font-family: monospace;font-weight: bold;display: inline-block;line-height: 1.2em;}#sk-container-id-17 div.sk-label-container {text-align: center;}#sk-container-id-17 div.sk-container {/* jupyter's `normalize.less` sets `[hidden] { display: none; }` but bootstrap.min.css set `[hidden] { display: none !important; }` so we also need the `!important` here to be able to override the default hidden behavior on the sphinx rendered scikit-learn.org. See: https://github.com/scikit-learn/scikit-learn/issues/21755 */display: inline-block !important;position: relative;}#sk-container-id-17 div.sk-text-repr-fallback {display: none;}</style><div id=\"sk-container-id-17\" class=\"sk-top-container\"><div class=\"sk-text-repr-fallback\"><pre>GridSearchCV(cv=5, estimator=GaussianNB(),\n",
       "             param_grid=[{&#x27;var_smoothing&#x27;: [8.2e-17, 1.5e-17, 1.3e-17,\n",
       "                                            1.2e-17]}],\n",
       "             verbose=10)</pre><b>In a Jupyter environment, please rerun this cell to show the HTML representation or trust the notebook. <br />On GitHub, the HTML representation is unable to render, please try loading this page with nbviewer.org.</b></div><div class=\"sk-container\" hidden><div class=\"sk-item sk-dashed-wrapped\"><div class=\"sk-label-container\"><div class=\"sk-label sk-toggleable\"><input class=\"sk-toggleable__control sk-hidden--visually\" id=\"sk-estimator-id-47\" type=\"checkbox\" ><label for=\"sk-estimator-id-47\" class=\"sk-toggleable__label sk-toggleable__label-arrow\">GridSearchCV</label><div class=\"sk-toggleable__content\"><pre>GridSearchCV(cv=5, estimator=GaussianNB(),\n",
       "             param_grid=[{&#x27;var_smoothing&#x27;: [8.2e-17, 1.5e-17, 1.3e-17,\n",
       "                                            1.2e-17]}],\n",
       "             verbose=10)</pre></div></div></div><div class=\"sk-parallel\"><div class=\"sk-parallel-item\"><div class=\"sk-item\"><div class=\"sk-label-container\"><div class=\"sk-label sk-toggleable\"><input class=\"sk-toggleable__control sk-hidden--visually\" id=\"sk-estimator-id-48\" type=\"checkbox\" ><label for=\"sk-estimator-id-48\" class=\"sk-toggleable__label sk-toggleable__label-arrow\">estimator: GaussianNB</label><div class=\"sk-toggleable__content\"><pre>GaussianNB()</pre></div></div></div><div class=\"sk-serial\"><div class=\"sk-item\"><div class=\"sk-estimator sk-toggleable\"><input class=\"sk-toggleable__control sk-hidden--visually\" id=\"sk-estimator-id-49\" type=\"checkbox\" ><label for=\"sk-estimator-id-49\" class=\"sk-toggleable__label sk-toggleable__label-arrow\">GaussianNB</label><div class=\"sk-toggleable__content\"><pre>GaussianNB()</pre></div></div></div></div></div></div></div></div></div></div>"
      ],
      "text/plain": [
       "GridSearchCV(cv=5, estimator=GaussianNB(),\n",
       "             param_grid=[{'var_smoothing': [8.2e-17, 1.5e-17, 1.3e-17,\n",
       "                                            1.2e-17]}],\n",
       "             verbose=10)"
      ]
     },
     "execution_count": 119,
     "metadata": {},
     "output_type": "execute_result"
    }
   ],
   "source": [
    "#Optimisation du modèle de Naive Bayes\n",
    "from sklearn.model_selection import GridSearchCV\n",
    "#Paramètres du grid\n",
    "params =[\n",
    "    {'var_smoothing':[0.82e-16,0.15e-16,0.13e-16,0.12e-16]}\n",
    "]\n",
    "#Initialisation du modèle\n",
    "gnb = GaussianNB()\n",
    "best_model = GridSearchCV(gnb, params,cv=5, verbose=10)\n",
    "best_model.fit(X_train,Y_train)"
   ]
  },
  {
   "cell_type": "code",
   "execution_count": 120,
   "id": "264ab71d",
   "metadata": {},
   "outputs": [
    {
     "name": "stdout",
     "output_type": "stream",
     "text": [
      "le best paramètre du modèle Naives Bayesien est {'var_smoothing': 8.2e-17}\n",
      "le best score du modèle Naives Bayesien est 0.5941176470588235\n"
     ]
    }
   ],
   "source": [
    "print('le best paramètre du modèle Naives Bayesien est', best_model.best_params_)\n",
    "print('le best score du modèle Naives Bayesien est',best_model.best_score_)"
   ]
  },
  {
   "cell_type": "markdown",
   "id": "a07ddbb6",
   "metadata": {},
   "source": [
    "**Arbre de Décision**"
   ]
  },
  {
   "cell_type": "code",
   "execution_count": 121,
   "id": "0877832d",
   "metadata": {},
   "outputs": [
    {
     "name": "stdout",
     "output_type": "stream",
     "text": [
      "accuracy est du modèle arbre de decision est 0.6857142857142857\n"
     ]
    }
   ],
   "source": [
    "#Application du modèle arbre de décision\n",
    "from sklearn.tree import DecisionTreeClassifier \n",
    "dtc=DecisionTreeClassifier()\n",
    "dtc.fit(X_train,Y_train)\n",
    "pred_dtc= dtc.predict(X_test)\n",
    "dtc_acc =accuracy_score(Y_test,pred_dtc)\n",
    "print('accuracy est du modèle arbre de decision est',dtc_acc)"
   ]
  },
  {
   "cell_type": "code",
   "execution_count": 122,
   "id": "eccb92f8",
   "metadata": {},
   "outputs": [
    {
     "name": "stdout",
     "output_type": "stream",
     "text": [
      "              precision    recall  f1-score   support\n",
      "\n",
      "           0       0.63      0.75      0.69        16\n",
      "           1       0.75      0.63      0.69        19\n",
      "\n",
      "    accuracy                           0.69        35\n",
      "   macro avg       0.69      0.69      0.69        35\n",
      "weighted avg       0.70      0.69      0.69        35\n",
      "\n"
     ]
    }
   ],
   "source": [
    "#Visionnage des autres métriques d'évaluation\n",
    "from sklearn.metrics import classification_report\n",
    "print(classification_report(Y_test,pred_dtc))"
   ]
  },
  {
   "cell_type": "code",
   "execution_count": 123,
   "id": "7bb6f877",
   "metadata": {},
   "outputs": [
    {
     "name": "stdout",
     "output_type": "stream",
     "text": [
      "Fitting 5 folds for each of 4 candidates, totalling 20 fits\n",
      "[CV 1/5; 1/4] START criterion=gini..............................................\n",
      "[CV 1/5; 1/4] END ...............criterion=gini;, score=0.529 total time=   0.0s\n",
      "[CV 2/5; 1/4] START criterion=gini..............................................\n",
      "[CV 2/5; 1/4] END ...............criterion=gini;, score=0.750 total time=   0.0s\n",
      "[CV 3/5; 1/4] START criterion=gini..............................................\n",
      "[CV 3/5; 1/4] END ...............criterion=gini;, score=0.625 total time=   0.0s\n",
      "[CV 4/5; 1/4] START criterion=gini..............................................\n",
      "[CV 4/5; 1/4] END ...............criterion=gini;, score=0.625 total time=   0.0s\n",
      "[CV 5/5; 1/4] START criterion=gini..............................................\n",
      "[CV 5/5; 1/4] END ...............criterion=gini;, score=0.812 total time=   0.0s\n",
      "[CV 1/5; 2/4] START criterion=entropy...........................................\n",
      "[CV 1/5; 2/4] END ............criterion=entropy;, score=0.588 total time=   0.0s\n",
      "[CV 2/5; 2/4] START criterion=entropy...........................................\n",
      "[CV 2/5; 2/4] END ............criterion=entropy;, score=0.625 total time=   0.0s\n",
      "[CV 3/5; 2/4] START criterion=entropy...........................................\n",
      "[CV 3/5; 2/4] END ............criterion=entropy;, score=0.625 total time=   0.0s\n",
      "[CV 4/5; 2/4] START criterion=entropy...........................................\n",
      "[CV 4/5; 2/4] END ............criterion=entropy;, score=0.438 total time=   0.0s\n",
      "[CV 5/5; 2/4] START criterion=entropy...........................................\n",
      "[CV 5/5; 2/4] END ............criterion=entropy;, score=0.688 total time=   0.0s\n",
      "[CV 1/5; 3/4] START splitter=best...............................................\n",
      "[CV 1/5; 3/4] END ................splitter=best;, score=0.529 total time=   0.0s\n",
      "[CV 2/5; 3/4] START splitter=best...............................................\n",
      "[CV 2/5; 3/4] END ................splitter=best;, score=0.750 total time=   0.0s\n",
      "[CV 3/5; 3/4] START splitter=best...............................................\n",
      "[CV 3/5; 3/4] END ................splitter=best;, score=0.562 total time=   0.0s\n",
      "[CV 4/5; 3/4] START splitter=best...............................................\n",
      "[CV 4/5; 3/4] END ................splitter=best;, score=0.562 total time=   0.0s\n",
      "[CV 5/5; 3/4] START splitter=best...............................................\n",
      "[CV 5/5; 3/4] END ................splitter=best;, score=0.812 total time=   0.0s\n",
      "[CV 1/5; 4/4] START splitter=random.............................................\n",
      "[CV 1/5; 4/4] END ..............splitter=random;, score=0.412 total time=   0.0s\n",
      "[CV 2/5; 4/4] START splitter=random.............................................\n",
      "[CV 2/5; 4/4] END ..............splitter=random;, score=0.500 total time=   0.0s\n",
      "[CV 3/5; 4/4] START splitter=random.............................................\n",
      "[CV 3/5; 4/4] END ..............splitter=random;, score=0.500 total time=   0.0s\n",
      "[CV 4/5; 4/4] START splitter=random.............................................\n",
      "[CV 4/5; 4/4] END ..............splitter=random;, score=0.438 total time=   0.0s\n",
      "[CV 5/5; 4/4] START splitter=random.............................................\n",
      "[CV 5/5; 4/4] END ..............splitter=random;, score=0.812 total time=   0.0s\n"
     ]
    },
    {
     "data": {
      "text/html": [
       "<style>#sk-container-id-18 {color: black;background-color: white;}#sk-container-id-18 pre{padding: 0;}#sk-container-id-18 div.sk-toggleable {background-color: white;}#sk-container-id-18 label.sk-toggleable__label {cursor: pointer;display: block;width: 100%;margin-bottom: 0;padding: 0.3em;box-sizing: border-box;text-align: center;}#sk-container-id-18 label.sk-toggleable__label-arrow:before {content: \"▸\";float: left;margin-right: 0.25em;color: #696969;}#sk-container-id-18 label.sk-toggleable__label-arrow:hover:before {color: black;}#sk-container-id-18 div.sk-estimator:hover label.sk-toggleable__label-arrow:before {color: black;}#sk-container-id-18 div.sk-toggleable__content {max-height: 0;max-width: 0;overflow: hidden;text-align: left;background-color: #f0f8ff;}#sk-container-id-18 div.sk-toggleable__content pre {margin: 0.2em;color: black;border-radius: 0.25em;background-color: #f0f8ff;}#sk-container-id-18 input.sk-toggleable__control:checked~div.sk-toggleable__content {max-height: 200px;max-width: 100%;overflow: auto;}#sk-container-id-18 input.sk-toggleable__control:checked~label.sk-toggleable__label-arrow:before {content: \"▾\";}#sk-container-id-18 div.sk-estimator input.sk-toggleable__control:checked~label.sk-toggleable__label {background-color: #d4ebff;}#sk-container-id-18 div.sk-label input.sk-toggleable__control:checked~label.sk-toggleable__label {background-color: #d4ebff;}#sk-container-id-18 input.sk-hidden--visually {border: 0;clip: rect(1px 1px 1px 1px);clip: rect(1px, 1px, 1px, 1px);height: 1px;margin: -1px;overflow: hidden;padding: 0;position: absolute;width: 1px;}#sk-container-id-18 div.sk-estimator {font-family: monospace;background-color: #f0f8ff;border: 1px dotted black;border-radius: 0.25em;box-sizing: border-box;margin-bottom: 0.5em;}#sk-container-id-18 div.sk-estimator:hover {background-color: #d4ebff;}#sk-container-id-18 div.sk-parallel-item::after {content: \"\";width: 100%;border-bottom: 1px solid gray;flex-grow: 1;}#sk-container-id-18 div.sk-label:hover label.sk-toggleable__label {background-color: #d4ebff;}#sk-container-id-18 div.sk-serial::before {content: \"\";position: absolute;border-left: 1px solid gray;box-sizing: border-box;top: 0;bottom: 0;left: 50%;z-index: 0;}#sk-container-id-18 div.sk-serial {display: flex;flex-direction: column;align-items: center;background-color: white;padding-right: 0.2em;padding-left: 0.2em;position: relative;}#sk-container-id-18 div.sk-item {position: relative;z-index: 1;}#sk-container-id-18 div.sk-parallel {display: flex;align-items: stretch;justify-content: center;background-color: white;position: relative;}#sk-container-id-18 div.sk-item::before, #sk-container-id-18 div.sk-parallel-item::before {content: \"\";position: absolute;border-left: 1px solid gray;box-sizing: border-box;top: 0;bottom: 0;left: 50%;z-index: -1;}#sk-container-id-18 div.sk-parallel-item {display: flex;flex-direction: column;z-index: 1;position: relative;background-color: white;}#sk-container-id-18 div.sk-parallel-item:first-child::after {align-self: flex-end;width: 50%;}#sk-container-id-18 div.sk-parallel-item:last-child::after {align-self: flex-start;width: 50%;}#sk-container-id-18 div.sk-parallel-item:only-child::after {width: 0;}#sk-container-id-18 div.sk-dashed-wrapped {border: 1px dashed gray;margin: 0 0.4em 0.5em 0.4em;box-sizing: border-box;padding-bottom: 0.4em;background-color: white;}#sk-container-id-18 div.sk-label label {font-family: monospace;font-weight: bold;display: inline-block;line-height: 1.2em;}#sk-container-id-18 div.sk-label-container {text-align: center;}#sk-container-id-18 div.sk-container {/* jupyter's `normalize.less` sets `[hidden] { display: none; }` but bootstrap.min.css set `[hidden] { display: none !important; }` so we also need the `!important` here to be able to override the default hidden behavior on the sphinx rendered scikit-learn.org. See: https://github.com/scikit-learn/scikit-learn/issues/21755 */display: inline-block !important;position: relative;}#sk-container-id-18 div.sk-text-repr-fallback {display: none;}</style><div id=\"sk-container-id-18\" class=\"sk-top-container\"><div class=\"sk-text-repr-fallback\"><pre>GridSearchCV(cv=5, estimator=DecisionTreeClassifier(),\n",
       "             param_grid=[{&#x27;criterion&#x27;: [&#x27;gini&#x27;, &#x27;entropy&#x27;]},\n",
       "                         {&#x27;splitter&#x27;: [&#x27;best&#x27;, &#x27;random&#x27;]}],\n",
       "             verbose=10)</pre><b>In a Jupyter environment, please rerun this cell to show the HTML representation or trust the notebook. <br />On GitHub, the HTML representation is unable to render, please try loading this page with nbviewer.org.</b></div><div class=\"sk-container\" hidden><div class=\"sk-item sk-dashed-wrapped\"><div class=\"sk-label-container\"><div class=\"sk-label sk-toggleable\"><input class=\"sk-toggleable__control sk-hidden--visually\" id=\"sk-estimator-id-50\" type=\"checkbox\" ><label for=\"sk-estimator-id-50\" class=\"sk-toggleable__label sk-toggleable__label-arrow\">GridSearchCV</label><div class=\"sk-toggleable__content\"><pre>GridSearchCV(cv=5, estimator=DecisionTreeClassifier(),\n",
       "             param_grid=[{&#x27;criterion&#x27;: [&#x27;gini&#x27;, &#x27;entropy&#x27;]},\n",
       "                         {&#x27;splitter&#x27;: [&#x27;best&#x27;, &#x27;random&#x27;]}],\n",
       "             verbose=10)</pre></div></div></div><div class=\"sk-parallel\"><div class=\"sk-parallel-item\"><div class=\"sk-item\"><div class=\"sk-label-container\"><div class=\"sk-label sk-toggleable\"><input class=\"sk-toggleable__control sk-hidden--visually\" id=\"sk-estimator-id-51\" type=\"checkbox\" ><label for=\"sk-estimator-id-51\" class=\"sk-toggleable__label sk-toggleable__label-arrow\">estimator: DecisionTreeClassifier</label><div class=\"sk-toggleable__content\"><pre>DecisionTreeClassifier()</pre></div></div></div><div class=\"sk-serial\"><div class=\"sk-item\"><div class=\"sk-estimator sk-toggleable\"><input class=\"sk-toggleable__control sk-hidden--visually\" id=\"sk-estimator-id-52\" type=\"checkbox\" ><label for=\"sk-estimator-id-52\" class=\"sk-toggleable__label sk-toggleable__label-arrow\">DecisionTreeClassifier</label><div class=\"sk-toggleable__content\"><pre>DecisionTreeClassifier()</pre></div></div></div></div></div></div></div></div></div></div>"
      ],
      "text/plain": [
       "GridSearchCV(cv=5, estimator=DecisionTreeClassifier(),\n",
       "             param_grid=[{'criterion': ['gini', 'entropy']},\n",
       "                         {'splitter': ['best', 'random']}],\n",
       "             verbose=10)"
      ]
     },
     "execution_count": 123,
     "metadata": {},
     "output_type": "execute_result"
    }
   ],
   "source": [
    "#Optimisation du modèle arbre de décision\n",
    "from sklearn.model_selection import GridSearchCV\n",
    "#Paramètres du grid\n",
    "params =[\n",
    "    {'criterion' : [\"gini\", \"entropy\"]},\n",
    "    {'splitter' : [\"best\", \"random\"]}\n",
    "]\n",
    "#Initialisation du modèle\n",
    "dtc=DecisionTreeClassifier()\n",
    "best_model = GridSearchCV(dtc, params,cv=5, verbose=10)\n",
    "best_model.fit(X_train,Y_train)"
   ]
  },
  {
   "cell_type": "code",
   "execution_count": 124,
   "id": "329039c7",
   "metadata": {},
   "outputs": [
    {
     "name": "stdout",
     "output_type": "stream",
     "text": [
      "le best paramètre du modèle arbre de décision est {'criterion': 'gini'}\n",
      "le best score du modèle arbre de décision est 0.6683823529411764\n"
     ]
    }
   ],
   "source": [
    "print('le best paramètre du modèle arbre de décision est', best_model.best_params_)\n",
    "print('le best score du modèle arbre de décision est',best_model.best_score_)"
   ]
  },
  {
   "cell_type": "markdown",
   "id": "1f7713ef",
   "metadata": {},
   "source": [
    "***Interprétation***"
   ]
  },
  {
   "cell_type": "markdown",
   "id": "c8e69332",
   "metadata": {},
   "source": [
    "Après évaluation et optimisation de chaque modèle, nous avons eu comme best_score pour :\n",
    "\n",
    "***XGBoost*** : 0.7036764705882353% \n",
    "\n",
    "***K-NN*** :   0.7029411764705882%\n",
    "\n",
    "***Logistic Regression*** : 0.6669117647058823%\n",
    "\n",
    "***Naives Bayesien*** : 0.5941176470588235%\n",
    "\n",
    "***Arbre de Décision*** : 0.6683823529411764%\n",
    "\n",
    "Donc on peut déduire que le modèle ***XGBoost*** peut potentiellement etre utilisé comme biomarqueur du cancer du sein.\n"
   ]
  },
  {
   "cell_type": "code",
   "execution_count": null,
   "id": "5383f6bc",
   "metadata": {},
   "outputs": [],
   "source": []
  },
  {
   "cell_type": "code",
   "execution_count": null,
   "id": "57c88bb1",
   "metadata": {},
   "outputs": [],
   "source": []
  },
  {
   "cell_type": "code",
   "execution_count": null,
   "id": "ae33e5c1",
   "metadata": {},
   "outputs": [],
   "source": []
  }
 ],
 "metadata": {
  "kernelspec": {
   "display_name": "Python 3 (ipykernel)",
   "language": "python",
   "name": "python3"
  },
  "language_info": {
   "codemirror_mode": {
    "name": "ipython",
    "version": 3
   },
   "file_extension": ".py",
   "mimetype": "text/x-python",
   "name": "python",
   "nbconvert_exporter": "python",
   "pygments_lexer": "ipython3",
   "version": "3.10.5"
  }
 },
 "nbformat": 4,
 "nbformat_minor": 5
}
